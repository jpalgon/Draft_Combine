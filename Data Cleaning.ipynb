{
 "cells": [
  {
   "cell_type": "code",
   "execution_count": 1,
   "id": "de934922",
   "metadata": {},
   "outputs": [],
   "source": [
    "import pandas as pd\n",
    "import numpy as np\n",
    "import nfl_data_py as nfl"
   ]
  },
  {
   "cell_type": "code",
   "execution_count": 2,
   "id": "eb77fd9a",
   "metadata": {},
   "outputs": [],
   "source": [
    "df = pd.read_csv('./Data/scrapeddraft0522.csv',index_col=0)"
   ]
  },
  {
   "cell_type": "code",
   "execution_count": 3,
   "id": "cb1aabb4",
   "metadata": {},
   "outputs": [],
   "source": [
    "df = df[df.player != '<th aria-label=\"Player\" class=\"sort_default_asc show_partial_when_sorting left\" data-stat=\"player\">Player</th>']"
   ]
  },
  {
   "cell_type": "code",
   "execution_count": 4,
   "id": "55d65148",
   "metadata": {},
   "outputs": [],
   "source": [
    "df.player[df.player.str.contains('=')] = df.player[df.player.str.contains('=')].apply(lambda x: str(x).split(\">\")[1].split(\"<\")[0])"
   ]
  },
  {
   "cell_type": "code",
   "execution_count": 5,
   "id": "fb65564a",
   "metadata": {},
   "outputs": [],
   "source": [
    "df[['team','round','pick']] = df['draft_info'].apply(lambda x: pd.Series(str(x).split('/')[0:3]))"
   ]
  },
  {
   "cell_type": "code",
   "execution_count": 6,
   "id": "543e6c66",
   "metadata": {},
   "outputs": [],
   "source": [
    "df['round'] = df['round'].apply(lambda x: pd.Series(str(x).strip()))"
   ]
  },
  {
   "cell_type": "code",
   "execution_count": 7,
   "id": "e51d945d",
   "metadata": {},
   "outputs": [],
   "source": [
    "df = df[df['round'] != '']"
   ]
  },
  {
   "cell_type": "code",
   "execution_count": 8,
   "id": "86227047",
   "metadata": {},
   "outputs": [],
   "source": [
    "df['round'] = df['round'].apply(lambda x: pd.Series(str(x)[0]))"
   ]
  },
  {
   "cell_type": "code",
   "execution_count": 9,
   "id": "2654bd07",
   "metadata": {},
   "outputs": [
    {
     "name": "stderr",
     "output_type": "stream",
     "text": [
      "C:\\Users\\capta\\AppData\\Local\\Temp\\ipykernel_13772\\1221531417.py:1: SettingWithCopyWarning: \n",
      "A value is trying to be set on a copy of a slice from a DataFrame\n",
      "\n",
      "See the caveats in the documentation: https://pandas.pydata.org/pandas-docs/stable/user_guide/indexing.html#returning-a-view-versus-a-copy\n",
      "  df['round'][df['round']=='n'] = 8\n"
     ]
    }
   ],
   "source": [
    "df['round'][df['round']=='n'] = 8"
   ]
  },
  {
   "cell_type": "code",
   "execution_count": 10,
   "id": "2257049e",
   "metadata": {},
   "outputs": [],
   "source": [
    "df['pick'] = df['pick'].apply(lambda x: pd.Series(str(x).strip().split(' ')[0]))"
   ]
  },
  {
   "cell_type": "code",
   "execution_count": 11,
   "id": "ad3cc014",
   "metadata": {},
   "outputs": [],
   "source": [
    "df['pick'] = df['pick'].apply(lambda x: pd.Series(str(x)[0:-2]))"
   ]
  },
  {
   "cell_type": "code",
   "execution_count": 12,
   "id": "002c1b31",
   "metadata": {},
   "outputs": [
    {
     "name": "stderr",
     "output_type": "stream",
     "text": [
      "C:\\Users\\capta\\AppData\\Local\\Temp\\ipykernel_13772\\1104288695.py:1: SettingWithCopyWarning: \n",
      "A value is trying to be set on a copy of a slice from a DataFrame\n",
      "\n",
      "See the caveats in the documentation: https://pandas.pydata.org/pandas-docs/stable/user_guide/indexing.html#returning-a-view-versus-a-copy\n",
      "  df['pick'][df['pick'] == ''] = np.nan\n"
     ]
    }
   ],
   "source": [
    "df['pick'][df['pick'] == ''] = np.nan"
   ]
  },
  {
   "cell_type": "code",
   "execution_count": 13,
   "id": "8f8f78c3",
   "metadata": {},
   "outputs": [],
   "source": [
    "df[['feet','inches']] = df['height'].apply(lambda x: pd.Series(str(x).split('-')))"
   ]
  },
  {
   "cell_type": "code",
   "execution_count": 14,
   "id": "3d2bbca1",
   "metadata": {},
   "outputs": [],
   "source": [
    "df['feet'] = pd.to_numeric(df.feet,errors='coerce')\n",
    "df['inches'] = pd.to_numeric(df.inches,errors='coerce')\n",
    "df['height'] = (df.feet * 12) + df.inches"
   ]
  },
  {
   "cell_type": "code",
   "execution_count": 15,
   "id": "98249f9f",
   "metadata": {},
   "outputs": [],
   "source": [
    "df.drop(['inches','feet'],axis=1,inplace=True)"
   ]
  },
  {
   "cell_type": "code",
   "execution_count": 16,
   "id": "de94add6",
   "metadata": {},
   "outputs": [],
   "source": [
    "df.drop(['link','draft_info'],axis = 1, inplace=True)"
   ]
  },
  {
   "cell_type": "code",
   "execution_count": 17,
   "id": "830c36fb",
   "metadata": {},
   "outputs": [],
   "source": [
    "# Call NFL Players Python pacakge\n",
    "player = nfl.import_players()\n",
    "\n",
    "# Find all players who were drafted in 2005 or later\n",
    "draft_players = player.loc[(player.entry_year > 2004) & (player.draft_number >= 1)].sort_values(by=['entry_year','draft_number'])\n",
    "\n",
    "# Select relevant columns of draft players\n",
    "draft_player = draft_players[['display_name','position_group','entry_year','college_conference','draft_number']]"
   ]
  },
  {
   "cell_type": "code",
   "execution_count": 18,
   "id": "5fee2196",
   "metadata": {},
   "outputs": [],
   "source": [
    "cat_cols = ['player','pos','school_name','team']"
   ]
  },
  {
   "cell_type": "code",
   "execution_count": 19,
   "id": "ccc1ddbf",
   "metadata": {},
   "outputs": [],
   "source": [
    "num_cols = [col for col in df if col not in cat_cols]"
   ]
  },
  {
   "cell_type": "code",
   "execution_count": 20,
   "id": "68e10021",
   "metadata": {},
   "outputs": [],
   "source": [
    "df[num_cols] = df[num_cols].apply(pd.to_numeric,errors='coerce', axis=1)"
   ]
  },
  {
   "cell_type": "code",
   "execution_count": 21,
   "id": "7b599554",
   "metadata": {},
   "outputs": [],
   "source": [
    "drafted = df[df['round'] != 8]"
   ]
  },
  {
   "cell_type": "code",
   "execution_count": 22,
   "id": "a7100215",
   "metadata": {},
   "outputs": [],
   "source": [
    "draft = df.merge(draft_player,how='left',left_on=['year','pick'],right_on=['entry_year','draft_number'])"
   ]
  },
  {
   "cell_type": "code",
   "execution_count": 23,
   "id": "62329beb",
   "metadata": {},
   "outputs": [],
   "source": [
    "age = pd.read_excel('./Data/Age.xlsx')"
   ]
  },
  {
   "cell_type": "code",
   "execution_count": 24,
   "id": "401cf004",
   "metadata": {},
   "outputs": [],
   "source": [
    "age = age[['Year','Rnd','Pick','Age','Player']]"
   ]
  },
  {
   "cell_type": "code",
   "execution_count": 25,
   "id": "0d3bf1fe",
   "metadata": {},
   "outputs": [],
   "source": [
    "age[['Year','Rnd','Pick','Age']] = age[['Year','Rnd','Pick','Age']].apply(pd.to_numeric,errors='coerce',axis=1)"
   ]
  },
  {
   "cell_type": "code",
   "execution_count": 26,
   "id": "2ee813fc",
   "metadata": {},
   "outputs": [],
   "source": [
    "drafts = draft.merge(age,how='left',left_on=['year','pick','player'],right_on=['Year','Pick','Player'])"
   ]
  },
  {
   "cell_type": "code",
   "execution_count": 27,
   "id": "505de16e",
   "metadata": {},
   "outputs": [],
   "source": [
    "drafts.drop(['display_name','position_group','entry_year','draft_number','Year','Rnd','Pick','Player'],axis=1,inplace=True)"
   ]
  },
  {
   "cell_type": "code",
   "execution_count": 28,
   "id": "a81958ce",
   "metadata": {},
   "outputs": [
    {
     "name": "stderr",
     "output_type": "stream",
     "text": [
      "C:\\Users\\capta\\AppData\\Local\\Temp\\ipykernel_13772\\1009202155.py:1: SettingWithCopyWarning: \n",
      "A value is trying to be set on a copy of a slice from a DataFrame\n",
      "\n",
      "See the caveats in the documentation: https://pandas.pydata.org/pandas-docs/stable/user_guide/indexing.html#returning-a-view-versus-a-copy\n",
      "  drafts.pos[(drafts.pos == 'OLB')|(drafts.pos == 'ILB')] = 'LB'\n",
      "C:\\Users\\capta\\AppData\\Local\\Temp\\ipykernel_13772\\1009202155.py:2: SettingWithCopyWarning: \n",
      "A value is trying to be set on a copy of a slice from a DataFrame\n",
      "\n",
      "See the caveats in the documentation: https://pandas.pydata.org/pandas-docs/stable/user_guide/indexing.html#returning-a-view-versus-a-copy\n",
      "  drafts.pos[(drafts.pos == 'OT')|(drafts.pos == 'C')|(drafts.pos == 'OG')] = 'OL'\n"
     ]
    }
   ],
   "source": [
    "drafts.pos[(drafts.pos == 'OLB')|(drafts.pos == 'ILB')] = 'LB'\n",
    "drafts.pos[(drafts.pos == 'OT')|(drafts.pos == 'C')|(drafts.pos == 'OG')] = 'OL'"
   ]
  },
  {
   "cell_type": "code",
   "execution_count": 29,
   "id": "1f00e7a5",
   "metadata": {},
   "outputs": [],
   "source": [
    "drafts['Round'] = drafts['round']"
   ]
  },
  {
   "cell_type": "code",
   "execution_count": 30,
   "id": "1dde7ccb",
   "metadata": {},
   "outputs": [],
   "source": [
    "drafts.drop(['round'],axis=1,inplace=True)"
   ]
  },
  {
   "cell_type": "code",
   "execution_count": 31,
   "id": "8a5e7e9f",
   "metadata": {},
   "outputs": [
    {
     "name": "stderr",
     "output_type": "stream",
     "text": [
      "C:\\Users\\capta\\AppData\\Local\\Temp\\ipykernel_13772\\1151124999.py:1: SettingWithCopyWarning: \n",
      "A value is trying to be set on a copy of a slice from a DataFrame\n",
      "\n",
      "See the caveats in the documentation: https://pandas.pydata.org/pandas-docs/stable/user_guide/indexing.html#returning-a-view-versus-a-copy\n",
      "  drafts.college_conference[(drafts.college_conference == 'NO COLLEGE') & (drafts.school_name == 'Ohio State')] = 'Big Ten Conference'\n"
     ]
    }
   ],
   "source": [
    "drafts.college_conference[(drafts.college_conference == 'NO COLLEGE') & (drafts.school_name == 'Ohio State')] = 'Big Ten Conference'"
   ]
  },
  {
   "cell_type": "code",
   "execution_count": 32,
   "id": "548c6277",
   "metadata": {},
   "outputs": [
    {
     "name": "stderr",
     "output_type": "stream",
     "text": [
      "C:\\Users\\capta\\AppData\\Local\\Temp\\ipykernel_13772\\3583540359.py:1: SettingWithCopyWarning: \n",
      "A value is trying to be set on a copy of a slice from a DataFrame\n",
      "\n",
      "See the caveats in the documentation: https://pandas.pydata.org/pandas-docs/stable/user_guide/indexing.html#returning-a-view-versus-a-copy\n",
      "  drafts.college_conference[(drafts.college_conference == 'NO COLLEGE')] = 'Atlantic Coast Conference'\n"
     ]
    }
   ],
   "source": [
    "drafts.college_conference[(drafts.college_conference == 'NO COLLEGE')] = 'Atlantic Coast Conference'"
   ]
  },
  {
   "cell_type": "code",
   "execution_count": 33,
   "id": "27bd0e03",
   "metadata": {},
   "outputs": [
    {
     "name": "stderr",
     "output_type": "stream",
     "text": [
      "C:\\Users\\capta\\AppData\\Local\\Temp\\ipykernel_13772\\2083932286.py:1: SettingWithCopyWarning: \n",
      "A value is trying to be set on a copy of a slice from a DataFrame\n",
      "\n",
      "See the caveats in the documentation: https://pandas.pydata.org/pandas-docs/stable/user_guide/indexing.html#returning-a-view-versus-a-copy\n",
      "  drafts.college_conference[(drafts.college_conference == 'NO FOOTBALL')] = 'Conference USA'\n"
     ]
    }
   ],
   "source": [
    "drafts.college_conference[(drafts.college_conference == 'NO FOOTBALL')] = 'Conference USA'"
   ]
  },
  {
   "cell_type": "code",
   "execution_count": 34,
   "id": "d00bed0d",
   "metadata": {},
   "outputs": [
    {
     "name": "stderr",
     "output_type": "stream",
     "text": [
      "C:\\Users\\capta\\AppData\\Local\\Temp\\ipykernel_13772\\3775298207.py:1: SettingWithCopyWarning: \n",
      "A value is trying to be set on a copy of a slice from a DataFrame\n",
      "\n",
      "See the caveats in the documentation: https://pandas.pydata.org/pandas-docs/stable/user_guide/indexing.html#returning-a-view-versus-a-copy\n",
      "  drafts.college_conference[(drafts.college_conference == 'Pacific Ten Conference')] = 'Pacific Twelve Conference'\n"
     ]
    }
   ],
   "source": [
    "drafts.college_conference[(drafts.college_conference == 'Pacific Ten Conference')] = 'Pacific Twelve Conference'"
   ]
  },
  {
   "cell_type": "code",
   "execution_count": 38,
   "id": "ba017e41",
   "metadata": {},
   "outputs": [],
   "source": [
    "drafts['speed'] = (drafts.weight * 200) / (drafts.forty_yd ** 4)\n",
    "drafts['agility'] = (drafts.weight * 200) / (drafts.shuttle ** 4)\n",
    "drafts['alt_agility'] = (drafts.weight * 200) / (drafts.cone ** 3)"
   ]
  },
  {
   "cell_type": "code",
   "execution_count": 39,
   "id": "bf869d38",
   "metadata": {},
   "outputs": [],
   "source": [
    "drafts.to_parquet('./Data/draft0522.parquet')"
   ]
  },
  {
   "cell_type": "code",
   "execution_count": 37,
   "id": "ea4b462b",
   "metadata": {},
   "outputs": [],
   "source": [
    "#drafts.school_name[(drafts.college_conference.isna())].value_counts()"
   ]
  },
  {
   "cell_type": "code",
   "execution_count": null,
   "id": "6762d5af",
   "metadata": {},
   "outputs": [],
   "source": []
  }
 ],
 "metadata": {
  "kernelspec": {
   "display_name": "Python 3 (ipykernel)",
   "language": "python",
   "name": "python3"
  },
  "language_info": {
   "codemirror_mode": {
    "name": "ipython",
    "version": 3
   },
   "file_extension": ".py",
   "mimetype": "text/x-python",
   "name": "python",
   "nbconvert_exporter": "python",
   "pygments_lexer": "ipython3",
   "version": "3.9.13"
  }
 },
 "nbformat": 4,
 "nbformat_minor": 5
}
