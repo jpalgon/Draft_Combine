{
 "cells": [
  {
   "cell_type": "code",
   "execution_count": 44,
   "id": "de934922",
   "metadata": {},
   "outputs": [],
   "source": [
    "import pandas as pd\n",
    "import numpy as np\n",
    "import nfl_data_py as nfl"
   ]
  },
  {
   "cell_type": "code",
   "execution_count": 45,
   "id": "eb77fd9a",
   "metadata": {},
   "outputs": [],
   "source": [
    "df = pd.read_csv('./Data/scrapeddraft0522.csv',index_col=0)"
   ]
  },
  {
   "cell_type": "code",
   "execution_count": 46,
   "id": "cb1aabb4",
   "metadata": {},
   "outputs": [],
   "source": [
    "df = df[df.player != '<th aria-label=\"Player\" class=\"sort_default_asc show_partial_when_sorting left\" data-stat=\"player\">Player</th>']"
   ]
  },
  {
   "cell_type": "code",
   "execution_count": 47,
   "id": "55d65148",
   "metadata": {},
   "outputs": [],
   "source": [
    "df.player[df.player.str.contains('=')] = df.player[df.player.str.contains('=')].apply(lambda x: str(x).split(\">\")[1].split(\"<\")[0])"
   ]
  },
  {
   "cell_type": "code",
   "execution_count": 48,
   "id": "fb65564a",
   "metadata": {},
   "outputs": [],
   "source": [
    "df[['team','round','pick']] = df['draft_info'].apply(lambda x: pd.Series(str(x).split('/')[0:3]))"
   ]
  },
  {
   "cell_type": "code",
   "execution_count": 49,
   "id": "543e6c66",
   "metadata": {},
   "outputs": [],
   "source": [
    "df['round'] = df['round'].apply(lambda x: pd.Series(str(x).strip()))"
   ]
  },
  {
   "cell_type": "code",
   "execution_count": 50,
   "id": "e51d945d",
   "metadata": {},
   "outputs": [],
   "source": [
    "df = df[df['round'] != '']"
   ]
  },
  {
   "cell_type": "code",
   "execution_count": 51,
   "id": "86227047",
   "metadata": {},
   "outputs": [],
   "source": [
    "df['round'] = df['round'].apply(lambda x: pd.Series(str(x)[0]))"
   ]
  },
  {
   "cell_type": "code",
   "execution_count": 52,
   "id": "2654bd07",
   "metadata": {},
   "outputs": [
    {
     "name": "stderr",
     "output_type": "stream",
     "text": [
      "C:\\Users\\capta\\AppData\\Local\\Temp\\ipykernel_21532\\1221531417.py:1: SettingWithCopyWarning: \n",
      "A value is trying to be set on a copy of a slice from a DataFrame\n",
      "\n",
      "See the caveats in the documentation: https://pandas.pydata.org/pandas-docs/stable/user_guide/indexing.html#returning-a-view-versus-a-copy\n",
      "  df['round'][df['round']=='n'] = 8\n"
     ]
    }
   ],
   "source": [
    "df['round'][df['round']=='n'] = 8"
   ]
  },
  {
   "cell_type": "code",
   "execution_count": 53,
   "id": "2257049e",
   "metadata": {},
   "outputs": [],
   "source": [
    "df['pick'] = df['pick'].apply(lambda x: pd.Series(str(x).strip().split(' ')[0]))"
   ]
  },
  {
   "cell_type": "code",
   "execution_count": 54,
   "id": "ad3cc014",
   "metadata": {},
   "outputs": [],
   "source": [
    "df['pick'] = df['pick'].apply(lambda x: pd.Series(str(x)[0:-2]))"
   ]
  },
  {
   "cell_type": "code",
   "execution_count": 55,
   "id": "002c1b31",
   "metadata": {},
   "outputs": [
    {
     "name": "stderr",
     "output_type": "stream",
     "text": [
      "C:\\Users\\capta\\AppData\\Local\\Temp\\ipykernel_21532\\1104288695.py:1: SettingWithCopyWarning: \n",
      "A value is trying to be set on a copy of a slice from a DataFrame\n",
      "\n",
      "See the caveats in the documentation: https://pandas.pydata.org/pandas-docs/stable/user_guide/indexing.html#returning-a-view-versus-a-copy\n",
      "  df['pick'][df['pick'] == ''] = np.nan\n"
     ]
    }
   ],
   "source": [
    "df['pick'][df['pick'] == ''] = np.nan"
   ]
  },
  {
   "cell_type": "code",
   "execution_count": 56,
   "id": "8f8f78c3",
   "metadata": {},
   "outputs": [],
   "source": [
    "df[['feet','inches']] = df['height'].apply(lambda x: pd.Series(str(x).split('-')))"
   ]
  },
  {
   "cell_type": "code",
   "execution_count": 57,
   "id": "3d2bbca1",
   "metadata": {},
   "outputs": [],
   "source": [
    "df['feet'] = pd.to_numeric(df.feet,errors='coerce')\n",
    "df['inches'] = pd.to_numeric(df.inches,errors='coerce')\n",
    "df['height'] = (df.feet * 12) + df.inches"
   ]
  },
  {
   "cell_type": "code",
   "execution_count": 58,
   "id": "98249f9f",
   "metadata": {},
   "outputs": [],
   "source": [
    "df.drop(['inches','feet'],axis=1,inplace=True)"
   ]
  },
  {
   "cell_type": "code",
   "execution_count": 59,
   "id": "de94add6",
   "metadata": {},
   "outputs": [],
   "source": [
    "df.drop(['link','draft_info'],axis = 1, inplace=True)"
   ]
  },
  {
   "cell_type": "code",
   "execution_count": 60,
   "id": "830c36fb",
   "metadata": {},
   "outputs": [],
   "source": [
    "# Call NFL Players Python pacakge\n",
    "player = nfl.import_players()\n",
    "\n",
    "# Find all players who were drafted in 2005 or later\n",
    "draft_players = player.loc[(player.entry_year > 2004) & (player.draft_number >= 1)].sort_values(by=['entry_year','draft_number'])\n",
    "\n",
    "# Select relevant columns of draft players\n",
    "draft_player = draft_players[['display_name','position_group','entry_year','college_conference','draft_number']]"
   ]
  },
  {
   "cell_type": "code",
   "execution_count": 61,
   "id": "5fee2196",
   "metadata": {},
   "outputs": [],
   "source": [
    "cat_cols = ['player','pos','school_name','team']"
   ]
  },
  {
   "cell_type": "code",
   "execution_count": 62,
   "id": "ccc1ddbf",
   "metadata": {},
   "outputs": [],
   "source": [
    "num_cols = [col for col in df if col not in cat_cols]"
   ]
  },
  {
   "cell_type": "code",
   "execution_count": 63,
   "id": "68e10021",
   "metadata": {},
   "outputs": [],
   "source": [
    "df[num_cols] = df[num_cols].apply(pd.to_numeric,errors='coerce', axis=1)"
   ]
  },
  {
   "cell_type": "code",
   "execution_count": 64,
   "id": "7b599554",
   "metadata": {},
   "outputs": [],
   "source": [
    "drafted = df[df['round'] != 8]"
   ]
  },
  {
   "cell_type": "code",
   "execution_count": 65,
   "id": "a7100215",
   "metadata": {},
   "outputs": [],
   "source": [
    "draft = df.merge(draft_player,how='left',left_on=['year','pick'],right_on=['entry_year','draft_number'])"
   ]
  },
  {
   "cell_type": "code",
   "execution_count": 66,
   "id": "62329beb",
   "metadata": {},
   "outputs": [],
   "source": [
    "age = pd.read_excel('./Data/Age.xlsx')"
   ]
  },
  {
   "cell_type": "code",
   "execution_count": 67,
   "id": "401cf004",
   "metadata": {},
   "outputs": [],
   "source": [
    "age = age[['Year','Rnd','Pick','Age','Player']]"
   ]
  },
  {
   "cell_type": "code",
   "execution_count": 68,
   "id": "0d3bf1fe",
   "metadata": {},
   "outputs": [],
   "source": [
    "age[['Year','Rnd','Pick','Age']] = age[['Year','Rnd','Pick','Age']].apply(pd.to_numeric,errors='coerce',axis=1)"
   ]
  },
  {
   "cell_type": "code",
   "execution_count": 69,
   "id": "2ee813fc",
   "metadata": {},
   "outputs": [],
   "source": [
    "drafts = draft.merge(age,how='left',left_on=['year','pick','player'],right_on=['Year','Pick','Player'])"
   ]
  },
  {
   "cell_type": "code",
   "execution_count": 70,
   "id": "505de16e",
   "metadata": {},
   "outputs": [],
   "source": [
    "drafts.drop(['display_name','position_group','entry_year','draft_number','Year','Rnd','Pick','Player'],axis=1,inplace=True)"
   ]
  },
  {
   "cell_type": "code",
   "execution_count": 71,
   "id": "a81958ce",
   "metadata": {},
   "outputs": [
    {
     "name": "stderr",
     "output_type": "stream",
     "text": [
      "C:\\Users\\capta\\AppData\\Local\\Temp\\ipykernel_21532\\1009202155.py:1: SettingWithCopyWarning: \n",
      "A value is trying to be set on a copy of a slice from a DataFrame\n",
      "\n",
      "See the caveats in the documentation: https://pandas.pydata.org/pandas-docs/stable/user_guide/indexing.html#returning-a-view-versus-a-copy\n",
      "  drafts.pos[(drafts.pos == 'OLB')|(drafts.pos == 'ILB')] = 'LB'\n",
      "C:\\Users\\capta\\AppData\\Local\\Temp\\ipykernel_21532\\1009202155.py:2: SettingWithCopyWarning: \n",
      "A value is trying to be set on a copy of a slice from a DataFrame\n",
      "\n",
      "See the caveats in the documentation: https://pandas.pydata.org/pandas-docs/stable/user_guide/indexing.html#returning-a-view-versus-a-copy\n",
      "  drafts.pos[(drafts.pos == 'OT')|(drafts.pos == 'C')|(drafts.pos == 'OG')] = 'OL'\n"
     ]
    }
   ],
   "source": [
    "drafts.pos[(drafts.pos == 'OLB')|(drafts.pos == 'ILB')] = 'LB'\n",
    "drafts.pos[(drafts.pos == 'OT')|(drafts.pos == 'C')|(drafts.pos == 'OG')] = 'OL'"
   ]
  },
  {
   "cell_type": "code",
   "execution_count": 72,
   "id": "1f00e7a5",
   "metadata": {},
   "outputs": [],
   "source": [
    "drafts['Round'] = drafts['round']"
   ]
  },
  {
   "cell_type": "code",
   "execution_count": 73,
   "id": "1dde7ccb",
   "metadata": {},
   "outputs": [],
   "source": [
    "drafts.drop(['round'],axis=1,inplace=True)"
   ]
  },
  {
   "cell_type": "code",
   "execution_count": 74,
   "id": "8a5e7e9f",
   "metadata": {},
   "outputs": [
    {
     "name": "stderr",
     "output_type": "stream",
     "text": [
      "C:\\Users\\capta\\AppData\\Local\\Temp\\ipykernel_21532\\1151124999.py:1: SettingWithCopyWarning: \n",
      "A value is trying to be set on a copy of a slice from a DataFrame\n",
      "\n",
      "See the caveats in the documentation: https://pandas.pydata.org/pandas-docs/stable/user_guide/indexing.html#returning-a-view-versus-a-copy\n",
      "  drafts.college_conference[(drafts.college_conference == 'NO COLLEGE') & (drafts.school_name == 'Ohio State')] = 'Big Ten Conference'\n"
     ]
    }
   ],
   "source": [
    "drafts.college_conference[(drafts.college_conference == 'NO COLLEGE') & (drafts.school_name == 'Ohio State')] = 'Big Ten Conference'"
   ]
  },
  {
   "cell_type": "code",
   "execution_count": 75,
   "id": "548c6277",
   "metadata": {},
   "outputs": [
    {
     "name": "stderr",
     "output_type": "stream",
     "text": [
      "C:\\Users\\capta\\AppData\\Local\\Temp\\ipykernel_21532\\3583540359.py:1: SettingWithCopyWarning: \n",
      "A value is trying to be set on a copy of a slice from a DataFrame\n",
      "\n",
      "See the caveats in the documentation: https://pandas.pydata.org/pandas-docs/stable/user_guide/indexing.html#returning-a-view-versus-a-copy\n",
      "  drafts.college_conference[(drafts.college_conference == 'NO COLLEGE')] = 'Atlantic Coast Conference'\n"
     ]
    }
   ],
   "source": [
    "drafts.college_conference[(drafts.college_conference == 'NO COLLEGE')] = 'Atlantic Coast Conference'"
   ]
  },
  {
   "cell_type": "code",
   "execution_count": 76,
   "id": "27bd0e03",
   "metadata": {},
   "outputs": [
    {
     "name": "stderr",
     "output_type": "stream",
     "text": [
      "C:\\Users\\capta\\AppData\\Local\\Temp\\ipykernel_21532\\2083932286.py:1: SettingWithCopyWarning: \n",
      "A value is trying to be set on a copy of a slice from a DataFrame\n",
      "\n",
      "See the caveats in the documentation: https://pandas.pydata.org/pandas-docs/stable/user_guide/indexing.html#returning-a-view-versus-a-copy\n",
      "  drafts.college_conference[(drafts.college_conference == 'NO FOOTBALL')] = 'Conference USA'\n"
     ]
    }
   ],
   "source": [
    "drafts.college_conference[(drafts.college_conference == 'NO FOOTBALL')] = 'Conference USA'"
   ]
  },
  {
   "cell_type": "code",
   "execution_count": 77,
   "id": "d00bed0d",
   "metadata": {},
   "outputs": [
    {
     "name": "stderr",
     "output_type": "stream",
     "text": [
      "C:\\Users\\capta\\AppData\\Local\\Temp\\ipykernel_21532\\3775298207.py:1: SettingWithCopyWarning: \n",
      "A value is trying to be set on a copy of a slice from a DataFrame\n",
      "\n",
      "See the caveats in the documentation: https://pandas.pydata.org/pandas-docs/stable/user_guide/indexing.html#returning-a-view-versus-a-copy\n",
      "  drafts.college_conference[(drafts.college_conference == 'Pacific Ten Conference')] = 'Pacific Twelve Conference'\n"
     ]
    }
   ],
   "source": [
    "drafts.college_conference[(drafts.college_conference == 'Pacific Ten Conference')] = 'Pacific Twelve Conference'"
   ]
  },
  {
   "cell_type": "code",
   "execution_count": 78,
   "id": "ba017e41",
   "metadata": {},
   "outputs": [],
   "source": [
    "drafts['speed'] = (drafts.weight * 200) / (drafts.forty_yd ** 4)\n",
    "drafts['shuttle_agility'] = (drafts.weight * 200) / (drafts.shuttle ** 4)\n",
    "drafts['cone_agility'] = (drafts.weight * 200) / (drafts.cone ** 3)"
   ]
  },
  {
   "cell_type": "code",
   "execution_count": 79,
   "id": "56a6742c",
   "metadata": {},
   "outputs": [
    {
     "name": "stderr",
     "output_type": "stream",
     "text": [
      "C:\\Users\\capta\\AppData\\Local\\Temp\\ipykernel_21532\\874012890.py:1: SettingWithCopyWarning: \n",
      "A value is trying to be set on a copy of a slice from a DataFrame\n",
      "\n",
      "See the caveats in the documentation: https://pandas.pydata.org/pandas-docs/stable/user_guide/indexing.html#returning-a-view-versus-a-copy\n",
      "  drafts.Round[drafts.Round <= 3] = 2\n"
     ]
    }
   ],
   "source": [
    "drafts.Round[drafts.Round <= 3] = 2"
   ]
  },
  {
   "cell_type": "code",
   "execution_count": 80,
   "id": "df252d67",
   "metadata": {},
   "outputs": [
    {
     "name": "stderr",
     "output_type": "stream",
     "text": [
      "C:\\Users\\capta\\AppData\\Local\\Temp\\ipykernel_21532\\2272459413.py:1: SettingWithCopyWarning: \n",
      "A value is trying to be set on a copy of a slice from a DataFrame\n",
      "\n",
      "See the caveats in the documentation: https://pandas.pydata.org/pandas-docs/stable/user_guide/indexing.html#returning-a-view-versus-a-copy\n",
      "  drafts.Round[drafts.Round == 8] = 0\n"
     ]
    }
   ],
   "source": [
    "drafts.Round[drafts.Round == 8] = 0"
   ]
  },
  {
   "cell_type": "code",
   "execution_count": 81,
   "id": "92615888",
   "metadata": {},
   "outputs": [
    {
     "name": "stderr",
     "output_type": "stream",
     "text": [
      "C:\\Users\\capta\\AppData\\Local\\Temp\\ipykernel_21532\\254994376.py:1: SettingWithCopyWarning: \n",
      "A value is trying to be set on a copy of a slice from a DataFrame\n",
      "\n",
      "See the caveats in the documentation: https://pandas.pydata.org/pandas-docs/stable/user_guide/indexing.html#returning-a-view-versus-a-copy\n",
      "  drafts.Round[drafts.Round >= 4] = 1\n"
     ]
    }
   ],
   "source": [
    "drafts.Round[drafts.Round >= 4] = 1"
   ]
  },
  {
   "cell_type": "code",
   "execution_count": 85,
   "id": "1208f6cc",
   "metadata": {},
   "outputs": [
    {
     "data": {
      "text/html": [
       "<div>\n",
       "<style scoped>\n",
       "    .dataframe tbody tr th:only-of-type {\n",
       "        vertical-align: middle;\n",
       "    }\n",
       "\n",
       "    .dataframe tbody tr th {\n",
       "        vertical-align: top;\n",
       "    }\n",
       "\n",
       "    .dataframe thead th {\n",
       "        text-align: right;\n",
       "    }\n",
       "</style>\n",
       "<table border=\"1\" class=\"dataframe\">\n",
       "  <thead>\n",
       "    <tr style=\"text-align: right;\">\n",
       "      <th></th>\n",
       "      <th>player</th>\n",
       "      <th>year</th>\n",
       "      <th>pos</th>\n",
       "      <th>school_name</th>\n",
       "      <th>height</th>\n",
       "      <th>weight</th>\n",
       "      <th>forty_yd</th>\n",
       "      <th>vertical</th>\n",
       "      <th>bench_reps</th>\n",
       "      <th>broad_jump</th>\n",
       "      <th>...</th>\n",
       "      <th>fumbles_forced_season</th>\n",
       "      <th>fumbles_forced_career</th>\n",
       "      <th>team</th>\n",
       "      <th>pick</th>\n",
       "      <th>college_conference</th>\n",
       "      <th>Age</th>\n",
       "      <th>Round</th>\n",
       "      <th>speed</th>\n",
       "      <th>shuttle_agility</th>\n",
       "      <th>cone_agility</th>\n",
       "    </tr>\n",
       "  </thead>\n",
       "  <tbody>\n",
       "    <tr>\n",
       "      <th>0</th>\n",
       "      <td>Hamza Abdullah</td>\n",
       "      <td>2005.0</td>\n",
       "      <td>S</td>\n",
       "      <td>Washington State</td>\n",
       "      <td>74.0</td>\n",
       "      <td>214.0</td>\n",
       "      <td>NaN</td>\n",
       "      <td>39.0</td>\n",
       "      <td>18.0</td>\n",
       "      <td>114.0</td>\n",
       "      <td>...</td>\n",
       "      <td>NaN</td>\n",
       "      <td>NaN</td>\n",
       "      <td>Tampa Bay Buccaneers</td>\n",
       "      <td>231.0</td>\n",
       "      <td>NaN</td>\n",
       "      <td>22.0</td>\n",
       "      <td>1.0</td>\n",
       "      <td>NaN</td>\n",
       "      <td>NaN</td>\n",
       "      <td>128.045806</td>\n",
       "    </tr>\n",
       "    <tr>\n",
       "      <th>1</th>\n",
       "      <td>Anthony Alabi</td>\n",
       "      <td>2005.0</td>\n",
       "      <td>OL</td>\n",
       "      <td>TCU</td>\n",
       "      <td>77.0</td>\n",
       "      <td>310.0</td>\n",
       "      <td>5.12</td>\n",
       "      <td>32.5</td>\n",
       "      <td>18.0</td>\n",
       "      <td>105.0</td>\n",
       "      <td>...</td>\n",
       "      <td>NaN</td>\n",
       "      <td>NaN</td>\n",
       "      <td>Miami Dolphins</td>\n",
       "      <td>162.0</td>\n",
       "      <td>NaN</td>\n",
       "      <td>24.0</td>\n",
       "      <td>1.0</td>\n",
       "      <td>90.221874</td>\n",
       "      <td>138.471489</td>\n",
       "      <td>140.128598</td>\n",
       "    </tr>\n",
       "    <tr>\n",
       "      <th>2</th>\n",
       "      <td>Lorenzo Alexander</td>\n",
       "      <td>2005.0</td>\n",
       "      <td>DT</td>\n",
       "      <td>California</td>\n",
       "      <td>74.0</td>\n",
       "      <td>289.0</td>\n",
       "      <td>5.12</td>\n",
       "      <td>29.5</td>\n",
       "      <td>28.0</td>\n",
       "      <td>106.0</td>\n",
       "      <td>...</td>\n",
       "      <td>NaN</td>\n",
       "      <td>NaN</td>\n",
       "      <td>nan</td>\n",
       "      <td>NaN</td>\n",
       "      <td>NaN</td>\n",
       "      <td>NaN</td>\n",
       "      <td>0.0</td>\n",
       "      <td>84.110070</td>\n",
       "      <td>134.859719</td>\n",
       "      <td>135.376384</td>\n",
       "    </tr>\n",
       "    <tr>\n",
       "      <th>3</th>\n",
       "      <td>Jared Allen</td>\n",
       "      <td>2005.0</td>\n",
       "      <td>QB</td>\n",
       "      <td>Florida Atlantic</td>\n",
       "      <td>74.0</td>\n",
       "      <td>218.0</td>\n",
       "      <td>4.93</td>\n",
       "      <td>27.5</td>\n",
       "      <td>NaN</td>\n",
       "      <td>106.0</td>\n",
       "      <td>...</td>\n",
       "      <td>NaN</td>\n",
       "      <td>NaN</td>\n",
       "      <td>nan</td>\n",
       "      <td>NaN</td>\n",
       "      <td>NaN</td>\n",
       "      <td>NaN</td>\n",
       "      <td>0.0</td>\n",
       "      <td>73.807214</td>\n",
       "      <td>117.389272</td>\n",
       "      <td>112.539221</td>\n",
       "    </tr>\n",
       "    <tr>\n",
       "      <th>4</th>\n",
       "      <td>Derek Anderson</td>\n",
       "      <td>2005.0</td>\n",
       "      <td>QB</td>\n",
       "      <td>Oregon State</td>\n",
       "      <td>78.0</td>\n",
       "      <td>242.0</td>\n",
       "      <td>5.03</td>\n",
       "      <td>29.0</td>\n",
       "      <td>NaN</td>\n",
       "      <td>103.0</td>\n",
       "      <td>...</td>\n",
       "      <td>NaN</td>\n",
       "      <td>NaN</td>\n",
       "      <td>Baltimore Ravens</td>\n",
       "      <td>213.0</td>\n",
       "      <td>Pacific Twelve Conference</td>\n",
       "      <td>22.0</td>\n",
       "      <td>1.0</td>\n",
       "      <td>75.608987</td>\n",
       "      <td>106.237406</td>\n",
       "      <td>107.265304</td>\n",
       "    </tr>\n",
       "    <tr>\n",
       "      <th>...</th>\n",
       "      <td>...</td>\n",
       "      <td>...</td>\n",
       "      <td>...</td>\n",
       "      <td>...</td>\n",
       "      <td>...</td>\n",
       "      <td>...</td>\n",
       "      <td>...</td>\n",
       "      <td>...</td>\n",
       "      <td>...</td>\n",
       "      <td>...</td>\n",
       "      <td>...</td>\n",
       "      <td>...</td>\n",
       "      <td>...</td>\n",
       "      <td>...</td>\n",
       "      <td>...</td>\n",
       "      <td>...</td>\n",
       "      <td>...</td>\n",
       "      <td>...</td>\n",
       "      <td>...</td>\n",
       "      <td>...</td>\n",
       "      <td>...</td>\n",
       "    </tr>\n",
       "    <tr>\n",
       "      <th>6062</th>\n",
       "      <td>Devonte Wyatt</td>\n",
       "      <td>2022.0</td>\n",
       "      <td>DT</td>\n",
       "      <td>Georgia</td>\n",
       "      <td>75.0</td>\n",
       "      <td>304.0</td>\n",
       "      <td>4.77</td>\n",
       "      <td>29.0</td>\n",
       "      <td>NaN</td>\n",
       "      <td>111.0</td>\n",
       "      <td>...</td>\n",
       "      <td>2.0</td>\n",
       "      <td>2.0</td>\n",
       "      <td>Green Bay Packers</td>\n",
       "      <td>28.0</td>\n",
       "      <td>Southeastern Conference</td>\n",
       "      <td>24.0</td>\n",
       "      <td>2.0</td>\n",
       "      <td>117.443791</td>\n",
       "      <td>NaN</td>\n",
       "      <td>NaN</td>\n",
       "    </tr>\n",
       "    <tr>\n",
       "      <th>6063</th>\n",
       "      <td>Jalen Wydermyer</td>\n",
       "      <td>2022.0</td>\n",
       "      <td>TE</td>\n",
       "      <td>Texas A&amp;M</td>\n",
       "      <td>76.0</td>\n",
       "      <td>255.0</td>\n",
       "      <td>NaN</td>\n",
       "      <td>NaN</td>\n",
       "      <td>NaN</td>\n",
       "      <td>NaN</td>\n",
       "      <td>...</td>\n",
       "      <td>NaN</td>\n",
       "      <td>NaN</td>\n",
       "      <td>nan</td>\n",
       "      <td>NaN</td>\n",
       "      <td>NaN</td>\n",
       "      <td>NaN</td>\n",
       "      <td>0.0</td>\n",
       "      <td>NaN</td>\n",
       "      <td>NaN</td>\n",
       "      <td>NaN</td>\n",
       "    </tr>\n",
       "    <tr>\n",
       "      <th>6064</th>\n",
       "      <td>Cade York</td>\n",
       "      <td>2022.0</td>\n",
       "      <td>K</td>\n",
       "      <td>LSU</td>\n",
       "      <td>73.0</td>\n",
       "      <td>206.0</td>\n",
       "      <td>NaN</td>\n",
       "      <td>NaN</td>\n",
       "      <td>12.0</td>\n",
       "      <td>NaN</td>\n",
       "      <td>...</td>\n",
       "      <td>NaN</td>\n",
       "      <td>NaN</td>\n",
       "      <td>Cleveland Browns</td>\n",
       "      <td>124.0</td>\n",
       "      <td>Southeastern Conference</td>\n",
       "      <td>21.0</td>\n",
       "      <td>1.0</td>\n",
       "      <td>NaN</td>\n",
       "      <td>NaN</td>\n",
       "      <td>NaN</td>\n",
       "    </tr>\n",
       "    <tr>\n",
       "      <th>6065</th>\n",
       "      <td>Nick Zakelj</td>\n",
       "      <td>2022.0</td>\n",
       "      <td>OL</td>\n",
       "      <td>Fordham</td>\n",
       "      <td>78.0</td>\n",
       "      <td>316.0</td>\n",
       "      <td>5.13</td>\n",
       "      <td>28.5</td>\n",
       "      <td>27.0</td>\n",
       "      <td>110.0</td>\n",
       "      <td>...</td>\n",
       "      <td>NaN</td>\n",
       "      <td>NaN</td>\n",
       "      <td>San Francisco 49ers</td>\n",
       "      <td>187.0</td>\n",
       "      <td>Patriot League</td>\n",
       "      <td>23.0</td>\n",
       "      <td>1.0</td>\n",
       "      <td>91.253098</td>\n",
       "      <td>128.420232</td>\n",
       "      <td>135.772549</td>\n",
       "    </tr>\n",
       "    <tr>\n",
       "      <th>6066</th>\n",
       "      <td>Bailey Zappe</td>\n",
       "      <td>2022.0</td>\n",
       "      <td>QB</td>\n",
       "      <td>Western Kentucky</td>\n",
       "      <td>73.0</td>\n",
       "      <td>215.0</td>\n",
       "      <td>4.88</td>\n",
       "      <td>30.0</td>\n",
       "      <td>NaN</td>\n",
       "      <td>109.0</td>\n",
       "      <td>...</td>\n",
       "      <td>NaN</td>\n",
       "      <td>NaN</td>\n",
       "      <td>New England Patriots</td>\n",
       "      <td>137.0</td>\n",
       "      <td>Conference USA</td>\n",
       "      <td>23.0</td>\n",
       "      <td>1.0</td>\n",
       "      <td>75.820941</td>\n",
       "      <td>114.724916</td>\n",
       "      <td>115.686261</td>\n",
       "    </tr>\n",
       "  </tbody>\n",
       "</table>\n",
       "<p>6067 rows × 91 columns</p>\n",
       "</div>"
      ],
      "text/plain": [
       "                 player    year pos       school_name  height  weight  \\\n",
       "0        Hamza Abdullah  2005.0   S  Washington State    74.0   214.0   \n",
       "1         Anthony Alabi  2005.0  OL               TCU    77.0   310.0   \n",
       "2     Lorenzo Alexander  2005.0  DT        California    74.0   289.0   \n",
       "3           Jared Allen  2005.0  QB  Florida Atlantic    74.0   218.0   \n",
       "4        Derek Anderson  2005.0  QB      Oregon State    78.0   242.0   \n",
       "...                 ...     ...  ..               ...     ...     ...   \n",
       "6062      Devonte Wyatt  2022.0  DT           Georgia    75.0   304.0   \n",
       "6063    Jalen Wydermyer  2022.0  TE         Texas A&M    76.0   255.0   \n",
       "6064          Cade York  2022.0   K               LSU    73.0   206.0   \n",
       "6065        Nick Zakelj  2022.0  OL           Fordham    78.0   316.0   \n",
       "6066       Bailey Zappe  2022.0  QB  Western Kentucky    73.0   215.0   \n",
       "\n",
       "      forty_yd  vertical  bench_reps  broad_jump  ...  fumbles_forced_season  \\\n",
       "0          NaN      39.0        18.0       114.0  ...                    NaN   \n",
       "1         5.12      32.5        18.0       105.0  ...                    NaN   \n",
       "2         5.12      29.5        28.0       106.0  ...                    NaN   \n",
       "3         4.93      27.5         NaN       106.0  ...                    NaN   \n",
       "4         5.03      29.0         NaN       103.0  ...                    NaN   \n",
       "...        ...       ...         ...         ...  ...                    ...   \n",
       "6062      4.77      29.0         NaN       111.0  ...                    2.0   \n",
       "6063       NaN       NaN         NaN         NaN  ...                    NaN   \n",
       "6064       NaN       NaN        12.0         NaN  ...                    NaN   \n",
       "6065      5.13      28.5        27.0       110.0  ...                    NaN   \n",
       "6066      4.88      30.0         NaN       109.0  ...                    NaN   \n",
       "\n",
       "      fumbles_forced_career                   team   pick  \\\n",
       "0                       NaN  Tampa Bay Buccaneers   231.0   \n",
       "1                       NaN        Miami Dolphins   162.0   \n",
       "2                       NaN                    nan    NaN   \n",
       "3                       NaN                    nan    NaN   \n",
       "4                       NaN      Baltimore Ravens   213.0   \n",
       "...                     ...                    ...    ...   \n",
       "6062                    2.0     Green Bay Packers    28.0   \n",
       "6063                    NaN                    nan    NaN   \n",
       "6064                    NaN      Cleveland Browns   124.0   \n",
       "6065                    NaN   San Francisco 49ers   187.0   \n",
       "6066                    NaN  New England Patriots   137.0   \n",
       "\n",
       "             college_conference   Age  Round       speed  shuttle_agility  \\\n",
       "0                           NaN  22.0    1.0         NaN              NaN   \n",
       "1                           NaN  24.0    1.0   90.221874       138.471489   \n",
       "2                           NaN   NaN    0.0   84.110070       134.859719   \n",
       "3                           NaN   NaN    0.0   73.807214       117.389272   \n",
       "4     Pacific Twelve Conference  22.0    1.0   75.608987       106.237406   \n",
       "...                         ...   ...    ...         ...              ...   \n",
       "6062    Southeastern Conference  24.0    2.0  117.443791              NaN   \n",
       "6063                        NaN   NaN    0.0         NaN              NaN   \n",
       "6064    Southeastern Conference  21.0    1.0         NaN              NaN   \n",
       "6065             Patriot League  23.0    1.0   91.253098       128.420232   \n",
       "6066             Conference USA  23.0    1.0   75.820941       114.724916   \n",
       "\n",
       "      cone_agility  \n",
       "0       128.045806  \n",
       "1       140.128598  \n",
       "2       135.376384  \n",
       "3       112.539221  \n",
       "4       107.265304  \n",
       "...            ...  \n",
       "6062           NaN  \n",
       "6063           NaN  \n",
       "6064           NaN  \n",
       "6065    135.772549  \n",
       "6066    115.686261  \n",
       "\n",
       "[6067 rows x 91 columns]"
      ]
     },
     "execution_count": 85,
     "metadata": {},
     "output_type": "execute_result"
    }
   ],
   "source": [
    "drafts"
   ]
  },
  {
   "cell_type": "code",
   "execution_count": 82,
   "id": "0ed93789",
   "metadata": {},
   "outputs": [],
   "source": [
    "drafts.to_csv('./Data/draft0522.csv')"
   ]
  },
  {
   "cell_type": "code",
   "execution_count": 83,
   "id": "bf869d38",
   "metadata": {},
   "outputs": [],
   "source": [
    "drafts.to_parquet('./Data/draft0522.parquet')"
   ]
  },
  {
   "cell_type": "code",
   "execution_count": 84,
   "id": "ea4b462b",
   "metadata": {},
   "outputs": [],
   "source": [
    "#drafts.school_name[(drafts.college_conference.isna())].value_counts()"
   ]
  },
  {
   "cell_type": "code",
   "execution_count": null,
   "id": "6762d5af",
   "metadata": {},
   "outputs": [],
   "source": []
  }
 ],
 "metadata": {
  "kernelspec": {
   "display_name": "Python 3 (ipykernel)",
   "language": "python",
   "name": "python3"
  },
  "language_info": {
   "codemirror_mode": {
    "name": "ipython",
    "version": 3
   },
   "file_extension": ".py",
   "mimetype": "text/x-python",
   "name": "python",
   "nbconvert_exporter": "python",
   "pygments_lexer": "ipython3",
   "version": "3.9.13"
  }
 },
 "nbformat": 4,
 "nbformat_minor": 5
}
