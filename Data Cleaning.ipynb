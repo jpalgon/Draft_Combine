{
 "cells": [
  {
   "cell_type": "code",
   "execution_count": 44,
   "id": "de934922",
   "metadata": {},
   "outputs": [],
   "source": [
    "import pandas as pd\n",
    "import numpy as np\n",
    "import nfl_data_py as nfl"
   ]
  },
  {
   "cell_type": "code",
   "execution_count": 45,
   "id": "eb77fd9a",
   "metadata": {},
   "outputs": [],
   "source": [
    "df = pd.read_csv('./Data/scrapeddraft0522.csv',index_col=0)"
   ]
  },
  {
   "cell_type": "code",
   "execution_count": 46,
   "id": "cb1aabb4",
   "metadata": {},
   "outputs": [],
   "source": [
    "df = df[df.player != '<th aria-label=\"Player\" class=\"sort_default_asc show_partial_when_sorting left\" data-stat=\"player\">Player</th>']"
   ]
  },
  {
   "cell_type": "code",
   "execution_count": 47,
   "id": "55d65148",
   "metadata": {},
   "outputs": [],
   "source": [
    "df.player[df.player.str.contains('=')] = df.player[df.player.str.contains('=')].apply(lambda x: str(x).split(\">\")[1].split(\"<\")[0])"
   ]
  },
  {
   "cell_type": "code",
   "execution_count": 48,
   "id": "fb65564a",
   "metadata": {},
   "outputs": [],
   "source": [
    "df[['team','round','pick']] = df['draft_info'].apply(lambda x: pd.Series(str(x).split('/')[0:3]))"
   ]
  },
  {
   "cell_type": "code",
   "execution_count": 49,
   "id": "543e6c66",
   "metadata": {},
   "outputs": [],
   "source": [
    "df['round'] = df['round'].apply(lambda x: pd.Series(str(x).strip()))"
   ]
  },
  {
   "cell_type": "code",
   "execution_count": 50,
   "id": "e51d945d",
   "metadata": {},
   "outputs": [],
   "source": [
    "df = df[df['round'] != '']"
   ]
  },
  {
   "cell_type": "code",
   "execution_count": 51,
   "id": "86227047",
   "metadata": {},
   "outputs": [],
   "source": [
    "df['round'] = df['round'].apply(lambda x: pd.Series(str(x)[0]))"
   ]
  },
  {
   "cell_type": "code",
   "execution_count": 52,
   "id": "2654bd07",
   "metadata": {},
   "outputs": [
    {
     "name": "stderr",
     "output_type": "stream",
     "text": [
      "C:\\Users\\capta\\AppData\\Local\\Temp\\ipykernel_21532\\1221531417.py:1: SettingWithCopyWarning: \n",
      "A value is trying to be set on a copy of a slice from a DataFrame\n",
      "\n",
      "See the caveats in the documentation: https://pandas.pydata.org/pandas-docs/stable/user_guide/indexing.html#returning-a-view-versus-a-copy\n",
      "  df['round'][df['round']=='n'] = 8\n"
     ]
    }
   ],
   "source": [
    "df['round'][df['round']=='n'] = 8"
   ]
  },
  {
   "cell_type": "code",
   "execution_count": 53,
   "id": "2257049e",
   "metadata": {},
   "outputs": [],
   "source": [
    "df['pick'] = df['pick'].apply(lambda x: pd.Series(str(x).strip().split(' ')[0]))"
   ]
  },
  {
   "cell_type": "code",
   "execution_count": 54,
   "id": "ad3cc014",
   "metadata": {},
   "outputs": [],
   "source": [
    "df['pick'] = df['pick'].apply(lambda x: pd.Series(str(x)[0:-2]))"
   ]
  },
  {
   "cell_type": "code",
   "execution_count": 55,
   "id": "002c1b31",
   "metadata": {},
   "outputs": [
    {
     "name": "stderr",
     "output_type": "stream",
     "text": [
      "C:\\Users\\capta\\AppData\\Local\\Temp\\ipykernel_21532\\1104288695.py:1: SettingWithCopyWarning: \n",
      "A value is trying to be set on a copy of a slice from a DataFrame\n",
      "\n",
      "See the caveats in the documentation: https://pandas.pydata.org/pandas-docs/stable/user_guide/indexing.html#returning-a-view-versus-a-copy\n",
      "  df['pick'][df['pick'] == ''] = np.nan\n"
     ]
    }
   ],
   "source": [
    "df['pick'][df['pick'] == ''] = np.nan"
   ]
  },
  {
   "cell_type": "code",
   "execution_count": 56,
   "id": "8f8f78c3",
   "metadata": {},
   "outputs": [],
   "source": [
    "df[['feet','inches']] = df['height'].apply(lambda x: pd.Series(str(x).split('-')))"
   ]
  },
  {
   "cell_type": "code",
   "execution_count": 57,
   "id": "3d2bbca1",
   "metadata": {},
   "outputs": [],
   "source": [
    "df['feet'] = pd.to_numeric(df.feet,errors='coerce')\n",
    "df['inches'] = pd.to_numeric(df.inches,errors='coerce')\n",
    "df['height'] = (df.feet * 12) + df.inches"
   ]
  },
  {
   "cell_type": "code",
   "execution_count": 58,
   "id": "98249f9f",
   "metadata": {},
   "outputs": [],
   "source": [
    "df.drop(['inches','feet'],axis=1,inplace=True)"
   ]
  },
  {
   "cell_type": "code",
   "execution_count": 59,
   "id": "de94add6",
   "metadata": {},
   "outputs": [],
   "source": [
    "df.drop(['link','draft_info'],axis = 1, inplace=True)"
   ]
  },
  {
   "cell_type": "code",
   "execution_count": 60,
   "id": "830c36fb",
   "metadata": {},
   "outputs": [],
   "source": [
    "# Call NFL Players Python pacakge\n",
    "player = nfl.import_players()\n",
    "\n",
    "# Find all players who were drafted in 2005 or later\n",
    "draft_players = player.loc[(player.entry_year > 2004) & (player.draft_number >= 1)].sort_values(by=['entry_year','draft_number'])\n",
    "\n",
    "# Select relevant columns of draft players\n",
    "draft_player = draft_players[['display_name','position_group','entry_year','college_conference','draft_number']]"
   ]
  },
  {
   "cell_type": "code",
   "execution_count": 61,
   "id": "5fee2196",
   "metadata": {},
   "outputs": [],
   "source": [
    "cat_cols = ['player','pos','school_name','team']"
   ]
  },
  {
   "cell_type": "code",
   "execution_count": 62,
   "id": "ccc1ddbf",
   "metadata": {},
   "outputs": [],
   "source": [
    "num_cols = [col for col in df if col not in cat_cols]"
   ]
  },
  {
   "cell_type": "code",
   "execution_count": 63,
   "id": "68e10021",
   "metadata": {},
   "outputs": [],
   "source": [
    "df[num_cols] = df[num_cols].apply(pd.to_numeric,errors='coerce', axis=1)"
   ]
  },
  {
   "cell_type": "code",
   "execution_count": 64,
   "id": "7b599554",
   "metadata": {},
   "outputs": [],
   "source": [
    "drafted = df[df['round'] != 8]"
   ]
  },
  {
   "cell_type": "code",
   "execution_count": 65,
   "id": "a7100215",
   "metadata": {},
   "outputs": [],
   "source": [
    "draft = df.merge(draft_player,how='left',left_on=['year','pick'],right_on=['entry_year','draft_number'])"
   ]
  },
  {
   "cell_type": "code",
   "execution_count": 66,
   "id": "62329beb",
   "metadata": {},
   "outputs": [],
   "source": [
    "age = pd.read_excel('./Data/Age.xlsx')"
   ]
  },
  {
   "cell_type": "code",
   "execution_count": 67,
   "id": "401cf004",
   "metadata": {},
   "outputs": [],
   "source": [
    "age = age[['Year','Rnd','Pick','Age','Player']]"
   ]
  },
  {
   "cell_type": "code",
   "execution_count": 68,
   "id": "0d3bf1fe",
   "metadata": {},
   "outputs": [],
   "source": [
    "age[['Year','Rnd','Pick','Age']] = age[['Year','Rnd','Pick','Age']].apply(pd.to_numeric,errors='coerce',axis=1)"
   ]
  },
  {
   "cell_type": "code",
   "execution_count": 69,
   "id": "2ee813fc",
   "metadata": {},
   "outputs": [],
   "source": [
    "drafts = draft.merge(age,how='left',left_on=['year','pick','player'],right_on=['Year','Pick','Player'])"
   ]
  },
  {
   "cell_type": "code",
   "execution_count": 70,
   "id": "505de16e",
   "metadata": {},
   "outputs": [],
   "source": [
    "drafts.drop(['display_name','position_group','entry_year','draft_number','Year','Rnd','Pick','Player'],axis=1,inplace=True)"
   ]
  },
  {
   "cell_type": "code",
   "execution_count": 71,
   "id": "a81958ce",
   "metadata": {},
   "outputs": [
    {
     "name": "stderr",
     "output_type": "stream",
     "text": [
      "C:\\Users\\capta\\AppData\\Local\\Temp\\ipykernel_21532\\1009202155.py:1: SettingWithCopyWarning: \n",
      "A value is trying to be set on a copy of a slice from a DataFrame\n",
      "\n",
      "See the caveats in the documentation: https://pandas.pydata.org/pandas-docs/stable/user_guide/indexing.html#returning-a-view-versus-a-copy\n",
      "  drafts.pos[(drafts.pos == 'OLB')|(drafts.pos == 'ILB')] = 'LB'\n",
      "C:\\Users\\capta\\AppData\\Local\\Temp\\ipykernel_21532\\1009202155.py:2: SettingWithCopyWarning: \n",
      "A value is trying to be set on a copy of a slice from a DataFrame\n",
      "\n",
      "See the caveats in the documentation: https://pandas.pydata.org/pandas-docs/stable/user_guide/indexing.html#returning-a-view-versus-a-copy\n",
      "  drafts.pos[(drafts.pos == 'OT')|(drafts.pos == 'C')|(drafts.pos == 'OG')] = 'OL'\n"
     ]
    }
   ],
   "source": [
    "drafts.pos[(drafts.pos == 'OLB')|(drafts.pos == 'ILB')] = 'LB'\n",
    "drafts.pos[(drafts.pos == 'OT')|(drafts.pos == 'C')|(drafts.pos == 'OG')] = 'OL'"
   ]
  },
  {
   "cell_type": "code",
   "execution_count": 72,
   "id": "1f00e7a5",
   "metadata": {},
   "outputs": [],
   "source": [
    "drafts['Round'] = drafts['round']"
   ]
  },
  {
   "cell_type": "code",
   "execution_count": 73,
   "id": "1dde7ccb",
   "metadata": {},
   "outputs": [],
   "source": [
    "drafts.drop(['round'],axis=1,inplace=True)"
   ]
  },
  {
   "cell_type": "code",
   "execution_count": 74,
   "id": "8a5e7e9f",
   "metadata": {},
   "outputs": [
    {
     "name": "stderr",
     "output_type": "stream",
     "text": [
      "C:\\Users\\capta\\AppData\\Local\\Temp\\ipykernel_21532\\1151124999.py:1: SettingWithCopyWarning: \n",
      "A value is trying to be set on a copy of a slice from a DataFrame\n",
      "\n",
      "See the caveats in the documentation: https://pandas.pydata.org/pandas-docs/stable/user_guide/indexing.html#returning-a-view-versus-a-copy\n",
      "  drafts.college_conference[(drafts.college_conference == 'NO COLLEGE') & (drafts.school_name == 'Ohio State')] = 'Big Ten Conference'\n"
     ]
    }
   ],
   "source": [
    "drafts.college_conference[(drafts.college_conference == 'NO COLLEGE') & (drafts.school_name == 'Ohio State')] = 'Big Ten Conference'"
   ]
  },
  {
   "cell_type": "code",
   "execution_count": 75,
   "id": "548c6277",
   "metadata": {},
   "outputs": [
    {
     "name": "stderr",
     "output_type": "stream",
     "text": [
      "C:\\Users\\capta\\AppData\\Local\\Temp\\ipykernel_21532\\3583540359.py:1: SettingWithCopyWarning: \n",
      "A value is trying to be set on a copy of a slice from a DataFrame\n",
      "\n",
      "See the caveats in the documentation: https://pandas.pydata.org/pandas-docs/stable/user_guide/indexing.html#returning-a-view-versus-a-copy\n",
      "  drafts.college_conference[(drafts.college_conference == 'NO COLLEGE')] = 'Atlantic Coast Conference'\n"
     ]
    }
   ],
   "source": [
    "drafts.college_conference[(drafts.college_conference == 'NO COLLEGE')] = 'Atlantic Coast Conference'"
   ]
  },
  {
   "cell_type": "code",
   "execution_count": 76,
   "id": "27bd0e03",
   "metadata": {},
   "outputs": [
    {
     "name": "stderr",
     "output_type": "stream",
     "text": [
      "C:\\Users\\capta\\AppData\\Local\\Temp\\ipykernel_21532\\2083932286.py:1: SettingWithCopyWarning: \n",
      "A value is trying to be set on a copy of a slice from a DataFrame\n",
      "\n",
      "See the caveats in the documentation: https://pandas.pydata.org/pandas-docs/stable/user_guide/indexing.html#returning-a-view-versus-a-copy\n",
      "  drafts.college_conference[(drafts.college_conference == 'NO FOOTBALL')] = 'Conference USA'\n"
     ]
    }
   ],
   "source": [
    "drafts.college_conference[(drafts.college_conference == 'NO FOOTBALL')] = 'Conference USA'"
   ]
  },
  {
   "cell_type": "code",
   "execution_count": 77,
   "id": "d00bed0d",
   "metadata": {},
   "outputs": [
    {
     "name": "stderr",
     "output_type": "stream",
     "text": [
      "C:\\Users\\capta\\AppData\\Local\\Temp\\ipykernel_21532\\3775298207.py:1: SettingWithCopyWarning: \n",
      "A value is trying to be set on a copy of a slice from a DataFrame\n",
      "\n",
      "See the caveats in the documentation: https://pandas.pydata.org/pandas-docs/stable/user_guide/indexing.html#returning-a-view-versus-a-copy\n",
      "  drafts.college_conference[(drafts.college_conference == 'Pacific Ten Conference')] = 'Pacific Twelve Conference'\n"
     ]
    }
   ],
   "source": [
    "drafts.college_conference[(drafts.college_conference == 'Pacific Ten Conference')] = 'Pacific Twelve Conference'"
   ]
  },
  {
   "cell_type": "code",
   "execution_count": 78,
   "id": "ba017e41",
   "metadata": {},
   "outputs": [],
   "source": [
    "drafts['speed'] = (drafts.weight * 200) / (drafts.forty_yd ** 4)\n",
    "drafts['shuttle_agility'] = (drafts.weight * 200) / (drafts.shuttle ** 4)\n",
    "drafts['cone_agility'] = (drafts.weight * 200) / (drafts.cone ** 3)"
   ]
  },
  {
   "cell_type": "code",
   "execution_count": 79,
   "id": "edbb69f8",
   "metadata": {},
   "outputs": [
    {
     "name": "stderr",
     "output_type": "stream",
     "text": [
      "C:\\Users\\capta\\AppData\\Local\\Temp\\ipykernel_21532\\874012890.py:1: SettingWithCopyWarning: \n",
      "A value is trying to be set on a copy of a slice from a DataFrame\n",
      "\n",
      "See the caveats in the documentation: https://pandas.pydata.org/pandas-docs/stable/user_guide/indexing.html#returning-a-view-versus-a-copy\n",
      "  drafts.Round[drafts.Round <= 3] = 2\n"
     ]
    }
   ],
   "source": [
    "drafts.Round[drafts.Round <= 3] = 2"
   ]
  },
  {
   "cell_type": "code",
   "execution_count": 80,
   "id": "33500010",
   "metadata": {},
   "outputs": [
    {
     "name": "stderr",
     "output_type": "stream",
     "text": [
      "C:\\Users\\capta\\AppData\\Local\\Temp\\ipykernel_21532\\2272459413.py:1: SettingWithCopyWarning: \n",
      "A value is trying to be set on a copy of a slice from a DataFrame\n",
      "\n",
      "See the caveats in the documentation: https://pandas.pydata.org/pandas-docs/stable/user_guide/indexing.html#returning-a-view-versus-a-copy\n",
      "  drafts.Round[drafts.Round == 8] = 0\n"
     ]
    }
   ],
   "source": [
    "drafts.Round[drafts.Round == 8] = 0"
   ]
  },
  {
   "cell_type": "code",
   "execution_count": 81,
   "id": "71ab1273",
   "metadata": {},
   "outputs": [
    {
     "name": "stderr",
     "output_type": "stream",
     "text": [
      "C:\\Users\\capta\\AppData\\Local\\Temp\\ipykernel_21532\\254994376.py:1: SettingWithCopyWarning: \n",
      "A value is trying to be set on a copy of a slice from a DataFrame\n",
      "\n",
      "See the caveats in the documentation: https://pandas.pydata.org/pandas-docs/stable/user_guide/indexing.html#returning-a-view-versus-a-copy\n",
      "  drafts.Round[drafts.Round >= 4] = 1\n"
     ]
    }
   ],
   "source": [
    "drafts.Round[drafts.Round >= 4] = 1"
   ]
  },
  {
   "cell_type": "code",
   "execution_count": 86,
   "id": "c8305745",
   "metadata": {},
   "outputs": [
    {
     "name": "stdout",
     "output_type": "stream",
     "text": [
      "<class 'pandas.core.frame.DataFrame'>\n",
      "Int64Index: 6067 entries, 0 to 6066\n",
      "Data columns (total 91 columns):\n",
      " #   Column                       Non-Null Count  Dtype  \n",
      "---  ------                       --------------  -----  \n",
      " 0   player                       6067 non-null   object \n",
      " 1   year                         6067 non-null   float64\n",
      " 2   pos                          6067 non-null   object \n",
      " 3   school_name                  6067 non-null   object \n",
      " 4   height                       6038 non-null   float64\n",
      " 5   weight                       6043 non-null   float64\n",
      " 6   forty_yd                     5619 non-null   float64\n",
      " 7   vertical                     4780 non-null   float64\n",
      " 8   bench_reps                   4173 non-null   float64\n",
      " 9   broad_jump                   4700 non-null   float64\n",
      " 10  cone                         3819 non-null   float64\n",
      " 11  shuttle                      3923 non-null   float64\n",
      " 12  g_season                     4311 non-null   float64\n",
      " 13  def_int_season               1285 non-null   float64\n",
      " 14  def_int_yds_season           1019 non-null   float64\n",
      " 15  def_int_yds_per_int_season   1015 non-null   float64\n",
      " 16  def_int_career               1717 non-null   float64\n",
      " 17  def_int_yds_career           1527 non-null   float64\n",
      " 18  def_int_yds_per_int_career   1524 non-null   float64\n",
      " 19  pass_cmp_season              301 non-null    float64\n",
      " 20  pass_att_season              301 non-null    float64\n",
      " 21  pass_cmp_pct_season          301 non-null    float64\n",
      " 22  pass_yds_season              301 non-null    float64\n",
      " 23  pass_yds_per_att_season      301 non-null    float64\n",
      " 24  adj_pass_yds_per_att_season  301 non-null    float64\n",
      " 25  pass_td_season               298 non-null    float64\n",
      " 26  pass_int_season              297 non-null    float64\n",
      " 27  pass_rating_season           301 non-null    float64\n",
      " 28  pass_cmp_career              305 non-null    float64\n",
      " 29  pass_att_career              305 non-null    float64\n",
      " 30  pass_cmp_pct_career          305 non-null    float64\n",
      " 31  pass_yds_career              305 non-null    float64\n",
      " 32  pass_yds_per_att_career      305 non-null    float64\n",
      " 33  adj_pass_yds_per_att_career  305 non-null    float64\n",
      " 34  pass_td_career               305 non-null    float64\n",
      " 35  pass_int_career              304 non-null    float64\n",
      " 36  pass_rating_career           305 non-null    float64\n",
      " 37  rush_att_season              1062 non-null   float64\n",
      " 38  rush_yds_season              1054 non-null   float64\n",
      " 39  rush_yds_per_att_season      1047 non-null   float64\n",
      " 40  rush_td_season               659 non-null    float64\n",
      " 41  rec_season                   1576 non-null   float64\n",
      " 42  rec_yds_season               1576 non-null   float64\n",
      " 43  rec_yds_per_rec_season       1576 non-null   float64\n",
      " 44  scrim_att_season             1589 non-null   float64\n",
      " 45  scrim_yds_season             1588 non-null   float64\n",
      " 46  scrim_yds_per_att_season     1588 non-null   float64\n",
      " 47  scrim_td_season              1528 non-null   float64\n",
      " 48  rush_att_career              1230 non-null   float64\n",
      " 49  rush_yds_career              1226 non-null   float64\n",
      " 50  rush_yds_per_att_career      1219 non-null   float64\n",
      " 51  rush_td_career               810 non-null    float64\n",
      " 52  rec_career                   1600 non-null   float64\n",
      " 53  rec_yds_career               1600 non-null   float64\n",
      " 54  rec_yds_per_rec_career       1600 non-null   float64\n",
      " 55  rec_td_career                1501 non-null   float64\n",
      " 56  scrim_att_career             1604 non-null   float64\n",
      " 57  scrim_yds_career             1603 non-null   float64\n",
      " 58  scrim_yds_per_att_career     1603 non-null   float64\n",
      " 59  scrim_td_career              1593 non-null   float64\n",
      " 60  fumbles_rec_yds_career       308 non-null    float64\n",
      " 61  fumbles_rec_td_career        372 non-null    float64\n",
      " 62  rec_td_season                1297 non-null   float64\n",
      " 63  def_int_td_season            310 non-null    float64\n",
      " 64  def_int_td_career            654 non-null    float64\n",
      " 65  fumbles_rec_career           1127 non-null   float64\n",
      " 66  fumbles_rec_yds_season       125 non-null    float64\n",
      " 67  fumbles_rec_td_season        152 non-null    float64\n",
      " 68  fumbles_rec_season           611 non-null    float64\n",
      " 69  tackles_solo_season          2382 non-null   float64\n",
      " 70  tackles_assists_season       2372 non-null   float64\n",
      " 71  tackles_total_season         2390 non-null   float64\n",
      " 72  tackles_loss_season          2255 non-null   float64\n",
      " 73  sacks_season                 1644 non-null   float64\n",
      " 74  pass_defended_season         1466 non-null   float64\n",
      " 75  tackles_solo_career          2405 non-null   float64\n",
      " 76  tackles_assists_career       2408 non-null   float64\n",
      " 77  tackles_total_career         2409 non-null   float64\n",
      " 78  tackles_loss_career          2367 non-null   float64\n",
      " 79  sacks_career                 1965 non-null   float64\n",
      " 80  pass_defended_career         1911 non-null   float64\n",
      " 81  fumbles_forced_season        928 non-null    float64\n",
      " 82  fumbles_forced_career        1553 non-null   float64\n",
      " 83  team                         6067 non-null   object \n",
      " 84  pick                         3895 non-null   float64\n",
      " 85  college_conference           2581 non-null   object \n",
      " 86  Age                          3765 non-null   float64\n",
      " 87  Round                        6067 non-null   float64\n",
      " 88  speed                        5608 non-null   float64\n",
      " 89  shuttle_agility              3916 non-null   float64\n",
      " 90  cone_agility                 3812 non-null   float64\n",
      "dtypes: float64(86), object(5)\n",
      "memory usage: 4.3+ MB\n"
     ]
    }
   ],
   "source": [
    "drafts.info()"
   ]
  },
  {
   "cell_type": "code",
   "execution_count": 82,
   "id": "85b21290",
   "metadata": {},
   "outputs": [],
   "source": [
    "drafts.to_csv('./Data/draft0522.csv')"
   ]
  },
  {
   "cell_type": "code",
   "execution_count": 83,
   "id": "bf869d38",
   "metadata": {},
   "outputs": [],
   "source": [
    "drafts.to_parquet('./Data/draft0522.parquet')"
   ]
  },
  {
   "cell_type": "code",
   "execution_count": 84,
   "id": "ea4b462b",
   "metadata": {},
   "outputs": [],
   "source": [
    "#drafts.school_name[(drafts.college_conference.isna())].value_counts()"
   ]
  },
  {
   "cell_type": "code",
   "execution_count": null,
   "id": "6762d5af",
   "metadata": {},
   "outputs": [],
   "source": []
  }
 ],
 "metadata": {
  "kernelspec": {
   "display_name": "Python 3 (ipykernel)",
   "language": "python",
   "name": "python3"
  },
  "language_info": {
   "codemirror_mode": {
    "name": "ipython",
    "version": 3
   },
   "file_extension": ".py",
   "mimetype": "text/x-python",
   "name": "python",
   "nbconvert_exporter": "python",
   "pygments_lexer": "ipython3",
   "version": "3.9.13"
  }
 },
 "nbformat": 4,
 "nbformat_minor": 5
}
