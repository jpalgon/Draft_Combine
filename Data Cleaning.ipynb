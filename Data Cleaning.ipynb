{
 "cells": [
  {
   "cell_type": "markdown",
   "id": "c286b308",
   "metadata": {},
   "source": [
    "# Data Cleaning"
   ]
  },
  {
   "cell_type": "markdown",
   "id": "3021a263",
   "metadata": {},
   "source": [
    "### Import Relevant Libararies"
   ]
  },
  {
   "cell_type": "code",
   "execution_count": null,
   "id": "493d1ade",
   "metadata": {},
   "outputs": [],
   "source": [
    "import pandas as pd\n",
    "import numpy as np\n",
    "import nfl_data_py as nfl"
   ]
  },
  {
   "cell_type": "code",
   "execution_count": 45,
   "id": "eb77fd9a",
   "metadata": {},
   "outputs": [],
   "source": [
    "# Read in web scrapped data\n",
    "df = pd.read_csv('./Data/scrapeddraft0522.csv',index_col=0)"
   ]
  },
  {
   "cell_type": "code",
   "execution_count": 46,
   "id": "cb1aabb4",
   "metadata": {},
   "outputs": [],
   "source": [
    "# Remove players who don't have a player name (they did not have any statistics)\n",
    "df = df[df.player != '<th aria-label=\"Player\" class=\"sort_default_asc show_partial_when_sorting left\" data-stat=\"player\">Player</th>']"
   ]
  },
  {
   "cell_type": "markdown",
   "id": "231eb250",
   "metadata": {},
   "source": [
    "### Clean up player names for the players that some of the web scraping code couldn't extract properly"
   ]
  },
  {
   "cell_type": "code",
   "execution_count": 47,
   "id": "55d65148",
   "metadata": {},
   "outputs": [],
   "source": [
    "df.player[df.player.str.contains('=')] = df.player[df.player.str.contains('=')].apply(lambda x: str(x).split(\">\")[1].split(\"<\")[0])"
   ]
  },
  {
   "cell_type": "markdown",
   "id": "4c047475",
   "metadata": {},
   "source": [
    "### Split team round and pick text into separate columns"
   ]
  },
  {
   "cell_type": "code",
   "execution_count": 48,
   "id": "fb65564a",
   "metadata": {},
   "outputs": [],
   "source": [
    "df[['team','round','pick']] = df['draft_info'].apply(lambda x: pd.Series(str(x).split('/')[0:3]))"
   ]
  },
  {
   "cell_type": "code",
   "execution_count": 49,
   "id": "543e6c66",
   "metadata": {},
   "outputs": [],
   "source": [
    "df['round'] = df['round'].apply(lambda x: pd.Series(str(x).strip()))"
   ]
  },
  {
   "cell_type": "code",
   "execution_count": 50,
   "id": "e51d945d",
   "metadata": {},
   "outputs": [],
   "source": [
    "# Remove rows that do not have any data\n",
    "df = df[df['round'] != '']"
   ]
  },
  {
   "cell_type": "markdown",
   "id": "c4132294",
   "metadata": {},
   "source": [
    "### Clean the Round column and set undrafted players to round 8"
   ]
  },
  {
   "cell_type": "code",
   "execution_count": 51,
   "id": "86227047",
   "metadata": {},
   "outputs": [],
   "source": [
    "df['round'] = df['round'].apply(lambda x: pd.Series(str(x)[0]))"
   ]
  },
  {
   "cell_type": "code",
   "execution_count": 52,
   "id": "2654bd07",
   "metadata": {},
   "outputs": [
    {
     "name": "stderr",
     "output_type": "stream",
     "text": [
      "C:\\Users\\capta\\AppData\\Local\\Temp\\ipykernel_21532\\1221531417.py:1: SettingWithCopyWarning: \n",
      "A value is trying to be set on a copy of a slice from a DataFrame\n",
      "\n",
      "See the caveats in the documentation: https://pandas.pydata.org/pandas-docs/stable/user_guide/indexing.html#returning-a-view-versus-a-copy\n",
      "  df['round'][df['round']=='n'] = 8\n"
     ]
    }
   ],
   "source": [
    "df['round'][df['round']=='n'] = 8"
   ]
  },
  {
   "cell_type": "markdown",
   "id": "8062e0f7",
   "metadata": {},
   "source": [
    "### Clean the pick column to remove the text and just get the number"
   ]
  },
  {
   "cell_type": "code",
   "execution_count": 53,
   "id": "2257049e",
   "metadata": {},
   "outputs": [],
   "source": [
    "df['pick'] = df['pick'].apply(lambda x: pd.Series(str(x).strip().split(' ')[0]))"
   ]
  },
  {
   "cell_type": "code",
   "execution_count": 54,
   "id": "ad3cc014",
   "metadata": {},
   "outputs": [],
   "source": [
    "df['pick'] = df['pick'].apply(lambda x: pd.Series(str(x)[0:-2]))"
   ]
  },
  {
   "cell_type": "code",
   "execution_count": 55,
   "id": "002c1b31",
   "metadata": {},
   "outputs": [
    {
     "name": "stderr",
     "output_type": "stream",
     "text": [
      "C:\\Users\\capta\\AppData\\Local\\Temp\\ipykernel_21532\\1104288695.py:1: SettingWithCopyWarning: \n",
      "A value is trying to be set on a copy of a slice from a DataFrame\n",
      "\n",
      "See the caveats in the documentation: https://pandas.pydata.org/pandas-docs/stable/user_guide/indexing.html#returning-a-view-versus-a-copy\n",
      "  df['pick'][df['pick'] == ''] = np.nan\n"
     ]
    }
   ],
   "source": [
    "df['pick'][df['pick'] == ''] = np.nan"
   ]
  },
  {
   "cell_type": "markdown",
   "id": "8fe817bf",
   "metadata": {},
   "source": [
    "### Convert the feet-inches string into numeric inches"
   ]
  },
  {
   "cell_type": "code",
   "execution_count": 56,
   "id": "8f8f78c3",
   "metadata": {},
   "outputs": [],
   "source": [
    "df[['feet','inches']] = df['height'].apply(lambda x: pd.Series(str(x).split('-')))"
   ]
  },
  {
   "cell_type": "code",
   "execution_count": 57,
   "id": "3d2bbca1",
   "metadata": {},
   "outputs": [],
   "source": [
    "df['feet'] = pd.to_numeric(df.feet,errors='coerce')\n",
    "df['inches'] = pd.to_numeric(df.inches,errors='coerce')\n",
    "df['height'] = (df.feet * 12) + df.inches"
   ]
  },
  {
   "cell_type": "code",
   "execution_count": 58,
   "id": "98249f9f",
   "metadata": {},
   "outputs": [],
   "source": [
    "df.drop(['inches','feet'],axis=1,inplace=True)"
   ]
  },
  {
   "cell_type": "markdown",
   "id": "b59403fa",
   "metadata": {},
   "source": [
    "### Remove text columns that are no longer needed"
   ]
  },
  {
   "cell_type": "code",
   "execution_count": 59,
   "id": "de94add6",
   "metadata": {},
   "outputs": [],
   "source": [
    "df.drop(['link','draft_info'],axis = 1, inplace=True)"
   ]
  },
  {
   "cell_type": "markdown",
   "id": "02ba61c1",
   "metadata": {},
   "source": [
    "### Add NFL Python Dataset"
   ]
  },
  {
   "cell_type": "code",
   "execution_count": 60,
   "id": "830c36fb",
   "metadata": {},
   "outputs": [],
   "source": [
    "# Call NFL Players Python pacakge\n",
    "player = nfl.import_players()\n",
    "\n",
    "# Find all players who were drafted in 2005 or later\n",
    "draft_players = player.loc[(player.entry_year > 2004) & (player.draft_number >= 1)].sort_values(by=['entry_year','draft_number'])\n",
    "\n",
    "# Select relevant columns of draft players\n",
    "draft_player = draft_players[['display_name','position_group','entry_year','college_conference','draft_number']]"
   ]
  },
  {
   "cell_type": "markdown",
   "id": "fd97b1b1",
   "metadata": {},
   "source": [
    "### Convert features into proper data types"
   ]
  },
  {
   "cell_type": "code",
   "execution_count": 61,
   "id": "5fee2196",
   "metadata": {},
   "outputs": [],
   "source": [
    "cat_cols = ['player','pos','school_name','team']"
   ]
  },
  {
   "cell_type": "code",
   "execution_count": 62,
   "id": "ccc1ddbf",
   "metadata": {},
   "outputs": [],
   "source": [
    "# Find all numerical columns\n",
    "num_cols = [col for col in df if col not in cat_cols]"
   ]
  },
  {
   "cell_type": "code",
   "execution_count": 63,
   "id": "68e10021",
   "metadata": {},
   "outputs": [],
   "source": [
    "# Convert numerical columns to float\n",
    "df[num_cols] = df[num_cols].apply(pd.to_numeric,errors='coerce', axis=1)"
   ]
  },
  {
   "cell_type": "markdown",
   "id": "2e0a92ad",
   "metadata": {},
   "source": [
    "### Add age column"
   ]
  },
  {
   "cell_type": "markdown",
   "id": "5e70b23a",
   "metadata": {},
   "source": [
    "I only had age for drafted players so I added the age to the drafted players"
   ]
  },
  {
   "cell_type": "code",
   "execution_count": 64,
   "id": "7b599554",
   "metadata": {},
   "outputs": [],
   "source": [
    "drafted = df[df['round'] != 8]"
   ]
  },
  {
   "cell_type": "code",
   "execution_count": 65,
   "id": "a7100215",
   "metadata": {},
   "outputs": [],
   "source": [
    "draft = df.merge(draft_player,how='left',left_on=['year','pick'],right_on=['entry_year','draft_number'])"
   ]
  },
  {
   "cell_type": "code",
   "execution_count": 66,
   "id": "62329beb",
   "metadata": {},
   "outputs": [],
   "source": [
    "age = pd.read_excel('./Data/Age.xlsx')"
   ]
  },
  {
   "cell_type": "code",
   "execution_count": 67,
   "id": "401cf004",
   "metadata": {},
   "outputs": [],
   "source": [
    "age = age[['Year','Rnd','Pick','Age','Player']]"
   ]
  },
  {
   "cell_type": "code",
   "execution_count": 68,
   "id": "0d3bf1fe",
   "metadata": {},
   "outputs": [],
   "source": [
    "age[['Year','Rnd','Pick','Age']] = age[['Year','Rnd','Pick','Age']].apply(pd.to_numeric,errors='coerce',axis=1)"
   ]
  },
  {
   "cell_type": "code",
   "execution_count": 69,
   "id": "2ee813fc",
   "metadata": {},
   "outputs": [],
   "source": [
    "drafts = draft.merge(age,how='left',left_on=['year','pick','player'],right_on=['Year','Pick','Player'])"
   ]
  },
  {
   "cell_type": "markdown",
   "id": "0340c708",
   "metadata": {},
   "source": [
    "### Remove unnecessary columns from merged DataFrame"
   ]
  },
  {
   "cell_type": "code",
   "execution_count": 70,
   "id": "505de16e",
   "metadata": {},
   "outputs": [],
   "source": [
    "drafts.drop(['display_name','position_group','entry_year','draft_number','Year','Rnd','Pick','Player'],axis=1,inplace=True)"
   ]
  },
  {
   "cell_type": "markdown",
   "id": "a785f752",
   "metadata": {},
   "source": [
    "### Cleaned up Position Labeling"
   ]
  },
  {
   "cell_type": "code",
   "execution_count": 71,
   "id": "a81958ce",
   "metadata": {},
   "outputs": [
    {
     "name": "stderr",
     "output_type": "stream",
     "text": [
      "C:\\Users\\capta\\AppData\\Local\\Temp\\ipykernel_21532\\1009202155.py:1: SettingWithCopyWarning: \n",
      "A value is trying to be set on a copy of a slice from a DataFrame\n",
      "\n",
      "See the caveats in the documentation: https://pandas.pydata.org/pandas-docs/stable/user_guide/indexing.html#returning-a-view-versus-a-copy\n",
      "  drafts.pos[(drafts.pos == 'OLB')|(drafts.pos == 'ILB')] = 'LB'\n",
      "C:\\Users\\capta\\AppData\\Local\\Temp\\ipykernel_21532\\1009202155.py:2: SettingWithCopyWarning: \n",
      "A value is trying to be set on a copy of a slice from a DataFrame\n",
      "\n",
      "See the caveats in the documentation: https://pandas.pydata.org/pandas-docs/stable/user_guide/indexing.html#returning-a-view-versus-a-copy\n",
      "  drafts.pos[(drafts.pos == 'OT')|(drafts.pos == 'C')|(drafts.pos == 'OG')] = 'OL'\n"
     ]
    }
   ],
   "source": [
    "drafts.pos[(drafts.pos == 'OLB')|(drafts.pos == 'ILB')] = 'LB'\n",
    "drafts.pos[(drafts.pos == 'OT')|(drafts.pos == 'C')|(drafts.pos == 'OG')] = 'OL'"
   ]
  },
  {
   "cell_type": "code",
   "execution_count": 72,
   "id": "1f00e7a5",
   "metadata": {},
   "outputs": [],
   "source": [
    "# Add column to update round to Round for less code confusion\n",
    "drafts['Round'] = drafts['round']"
   ]
  },
  {
   "cell_type": "code",
   "execution_count": 73,
   "id": "1dde7ccb",
   "metadata": {},
   "outputs": [],
   "source": [
    "# Remove old round column\n",
    "drafts.drop(['round'],axis=1,inplace=True)"
   ]
  },
  {
   "cell_type": "markdown",
   "id": "e75fa2ba",
   "metadata": {},
   "source": [
    "### Cleaning up College Conferences"
   ]
  },
  {
   "cell_type": "code",
   "execution_count": 74,
   "id": "8a5e7e9f",
   "metadata": {},
   "outputs": [
    {
     "name": "stderr",
     "output_type": "stream",
     "text": [
      "C:\\Users\\capta\\AppData\\Local\\Temp\\ipykernel_21532\\1151124999.py:1: SettingWithCopyWarning: \n",
      "A value is trying to be set on a copy of a slice from a DataFrame\n",
      "\n",
      "See the caveats in the documentation: https://pandas.pydata.org/pandas-docs/stable/user_guide/indexing.html#returning-a-view-versus-a-copy\n",
      "  drafts.college_conference[(drafts.college_conference == 'NO COLLEGE') & (drafts.school_name == 'Ohio State')] = 'Big Ten Conference'\n"
     ]
    }
   ],
   "source": [
    "drafts.college_conference[(drafts.college_conference == 'NO COLLEGE') & (drafts.school_name == 'Ohio State')] = 'Big Ten Conference'"
   ]
  },
  {
   "cell_type": "code",
   "execution_count": 75,
   "id": "548c6277",
   "metadata": {},
   "outputs": [
    {
     "name": "stderr",
     "output_type": "stream",
     "text": [
      "C:\\Users\\capta\\AppData\\Local\\Temp\\ipykernel_21532\\3583540359.py:1: SettingWithCopyWarning: \n",
      "A value is trying to be set on a copy of a slice from a DataFrame\n",
      "\n",
      "See the caveats in the documentation: https://pandas.pydata.org/pandas-docs/stable/user_guide/indexing.html#returning-a-view-versus-a-copy\n",
      "  drafts.college_conference[(drafts.college_conference == 'NO COLLEGE')] = 'Atlantic Coast Conference'\n"
     ]
    }
   ],
   "source": [
    "drafts.college_conference[(drafts.college_conference == 'NO COLLEGE')] = 'Atlantic Coast Conference'"
   ]
  },
  {
   "cell_type": "code",
   "execution_count": 76,
   "id": "27bd0e03",
   "metadata": {},
   "outputs": [
    {
     "name": "stderr",
     "output_type": "stream",
     "text": [
      "C:\\Users\\capta\\AppData\\Local\\Temp\\ipykernel_21532\\2083932286.py:1: SettingWithCopyWarning: \n",
      "A value is trying to be set on a copy of a slice from a DataFrame\n",
      "\n",
      "See the caveats in the documentation: https://pandas.pydata.org/pandas-docs/stable/user_guide/indexing.html#returning-a-view-versus-a-copy\n",
      "  drafts.college_conference[(drafts.college_conference == 'NO FOOTBALL')] = 'Conference USA'\n"
     ]
    }
   ],
   "source": [
    "drafts.college_conference[(drafts.college_conference == 'NO FOOTBALL')] = 'Conference USA'"
   ]
  },
  {
   "cell_type": "code",
   "execution_count": 77,
   "id": "d00bed0d",
   "metadata": {},
   "outputs": [
    {
     "name": "stderr",
     "output_type": "stream",
     "text": [
      "C:\\Users\\capta\\AppData\\Local\\Temp\\ipykernel_21532\\3775298207.py:1: SettingWithCopyWarning: \n",
      "A value is trying to be set on a copy of a slice from a DataFrame\n",
      "\n",
      "See the caveats in the documentation: https://pandas.pydata.org/pandas-docs/stable/user_guide/indexing.html#returning-a-view-versus-a-copy\n",
      "  drafts.college_conference[(drafts.college_conference == 'Pacific Ten Conference')] = 'Pacific Twelve Conference'\n"
     ]
    }
   ],
   "source": [
    "drafts.college_conference[(drafts.college_conference == 'Pacific Ten Conference')] = 'Pacific Twelve Conference'"
   ]
  },
  {
   "cell_type": "markdown",
   "id": "bf3423f2",
   "metadata": {},
   "source": [
    "### Feature Engineering"
   ]
  },
  {
   "cell_type": "markdown",
   "id": "1131b3a8",
   "metadata": {},
   "source": [
    "While athletic testing is super important, not all scores are the same. A player who runs a 4.5 40 yard dash at 250 lbs is much more impressive than a player who does it at 225 lbs. So I created 3 new scores that combine both weight and an athletic test score."
   ]
  },
  {
   "cell_type": "code",
   "execution_count": 78,
   "id": "ba017e41",
   "metadata": {},
   "outputs": [],
   "source": [
    "drafts['speed'] = (drafts.weight * 200) / (drafts.forty_yd ** 4)\n",
    "drafts['shuttle_agility'] = (drafts.weight * 200) / (drafts.shuttle ** 4)\n",
    "drafts['cone_agility'] = (drafts.weight * 200) / (drafts.cone ** 3)"
   ]
  },
  {
   "cell_type": "markdown",
   "id": "eb1a16de",
   "metadata": {},
   "source": [
    "### Create Round classes (Rounds 1-3: class 2, Rounds 4-7: class 1, Undrafted: class 0)"
   ]
  },
  {
   "cell_type": "code",
   "execution_count": 79,
   "id": "edbb69f8",
   "metadata": {},
   "outputs": [
    {
     "name": "stderr",
     "output_type": "stream",
     "text": [
      "C:\\Users\\capta\\AppData\\Local\\Temp\\ipykernel_21532\\874012890.py:1: SettingWithCopyWarning: \n",
      "A value is trying to be set on a copy of a slice from a DataFrame\n",
      "\n",
      "See the caveats in the documentation: https://pandas.pydata.org/pandas-docs/stable/user_guide/indexing.html#returning-a-view-versus-a-copy\n",
      "  drafts.Round[drafts.Round <= 3] = 2\n"
     ]
    }
   ],
   "source": [
    "drafts.Round[drafts.Round <= 3] = 2"
   ]
  },
  {
   "cell_type": "code",
   "execution_count": 80,
   "id": "33500010",
   "metadata": {},
   "outputs": [
    {
     "name": "stderr",
     "output_type": "stream",
     "text": [
      "C:\\Users\\capta\\AppData\\Local\\Temp\\ipykernel_21532\\2272459413.py:1: SettingWithCopyWarning: \n",
      "A value is trying to be set on a copy of a slice from a DataFrame\n",
      "\n",
      "See the caveats in the documentation: https://pandas.pydata.org/pandas-docs/stable/user_guide/indexing.html#returning-a-view-versus-a-copy\n",
      "  drafts.Round[drafts.Round == 8] = 0\n"
     ]
    }
   ],
   "source": [
    "drafts.Round[drafts.Round == 8] = 0"
   ]
  },
  {
   "cell_type": "code",
   "execution_count": 81,
   "id": "71ab1273",
   "metadata": {},
   "outputs": [
    {
     "name": "stderr",
     "output_type": "stream",
     "text": [
      "C:\\Users\\capta\\AppData\\Local\\Temp\\ipykernel_21532\\254994376.py:1: SettingWithCopyWarning: \n",
      "A value is trying to be set on a copy of a slice from a DataFrame\n",
      "\n",
      "See the caveats in the documentation: https://pandas.pydata.org/pandas-docs/stable/user_guide/indexing.html#returning-a-view-versus-a-copy\n",
      "  drafts.Round[drafts.Round >= 4] = 1\n"
     ]
    }
   ],
   "source": [
    "drafts.Round[drafts.Round >= 4] = 1"
   ]
  },
  {
   "cell_type": "markdown",
   "id": "f29ef382",
   "metadata": {},
   "source": [
    "### Write DataFrame to csv (for Neural Network) and parquet files"
   ]
  },
  {
   "cell_type": "code",
   "execution_count": 82,
   "id": "85b21290",
   "metadata": {},
   "outputs": [],
   "source": [
    "drafts.to_csv('./Data/draft0522.csv')"
   ]
  },
  {
   "cell_type": "code",
   "execution_count": 83,
   "id": "bf869d38",
   "metadata": {},
   "outputs": [],
   "source": [
    "drafts.to_parquet('./Data/draft0522.parquet')"
   ]
  }
 ],
 "metadata": {
  "kernelspec": {
   "display_name": "Python 3 (ipykernel)",
   "language": "python",
   "name": "python3"
  },
  "language_info": {
   "codemirror_mode": {
    "name": "ipython",
    "version": 3
   },
   "file_extension": ".py",
   "mimetype": "text/x-python",
   "name": "python",
   "nbconvert_exporter": "python",
   "pygments_lexer": "ipython3",
   "version": "3.9.13"
  }
 },
 "nbformat": 4,
 "nbformat_minor": 5
}
