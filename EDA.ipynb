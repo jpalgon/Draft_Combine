{
 "cells": [
  {
   "cell_type": "code",
   "execution_count": 2,
   "id": "00b3f443",
   "metadata": {},
   "outputs": [],
   "source": [
    "import pandas as pd\n",
    "import matplotlib.pyplot as plt\n",
    "import seaborn as sns"
   ]
  },
  {
   "cell_type": "code",
   "execution_count": 6,
   "id": "b901fc04",
   "metadata": {},
   "outputs": [],
   "source": [
    "df = pd.read_parquet('./Data/draft0522.parquet')"
   ]
  },
  {
   "cell_type": "code",
   "execution_count": 7,
   "id": "1feed373",
   "metadata": {},
   "outputs": [
    {
     "name": "stdout",
     "output_type": "stream",
     "text": [
      "<class 'pandas.core.frame.DataFrame'>\n",
      "Int64Index: 6067 entries, 0 to 6066\n",
      "Data columns (total 88 columns):\n",
      " #   Column                       Non-Null Count  Dtype  \n",
      "---  ------                       --------------  -----  \n",
      " 0   player                       6067 non-null   object \n",
      " 1   year                         6067 non-null   float64\n",
      " 2   pos                          6067 non-null   object \n",
      " 3   school_name                  6067 non-null   object \n",
      " 4   height                       6038 non-null   float64\n",
      " 5   weight                       6043 non-null   float64\n",
      " 6   forty_yd                     5619 non-null   float64\n",
      " 7   vertical                     4780 non-null   float64\n",
      " 8   bench_reps                   4173 non-null   float64\n",
      " 9   broad_jump                   4700 non-null   float64\n",
      " 10  cone                         3819 non-null   float64\n",
      " 11  shuttle                      3923 non-null   float64\n",
      " 12  g_season                     4311 non-null   float64\n",
      " 13  def_int_season               1285 non-null   float64\n",
      " 14  def_int_yds_season           1019 non-null   float64\n",
      " 15  def_int_yds_per_int_season   1015 non-null   float64\n",
      " 16  def_int_career               1717 non-null   float64\n",
      " 17  def_int_yds_career           1527 non-null   float64\n",
      " 18  def_int_yds_per_int_career   1524 non-null   float64\n",
      " 19  pass_cmp_season              301 non-null    float64\n",
      " 20  pass_att_season              301 non-null    float64\n",
      " 21  pass_cmp_pct_season          301 non-null    float64\n",
      " 22  pass_yds_season              301 non-null    float64\n",
      " 23  pass_yds_per_att_season      301 non-null    float64\n",
      " 24  adj_pass_yds_per_att_season  301 non-null    float64\n",
      " 25  pass_td_season               298 non-null    float64\n",
      " 26  pass_int_season              297 non-null    float64\n",
      " 27  pass_rating_season           301 non-null    float64\n",
      " 28  pass_cmp_career              305 non-null    float64\n",
      " 29  pass_att_career              305 non-null    float64\n",
      " 30  pass_cmp_pct_career          305 non-null    float64\n",
      " 31  pass_yds_career              305 non-null    float64\n",
      " 32  pass_yds_per_att_career      305 non-null    float64\n",
      " 33  adj_pass_yds_per_att_career  305 non-null    float64\n",
      " 34  pass_td_career               305 non-null    float64\n",
      " 35  pass_int_career              304 non-null    float64\n",
      " 36  pass_rating_career           305 non-null    float64\n",
      " 37  rush_att_season              1062 non-null   float64\n",
      " 38  rush_yds_season              1054 non-null   float64\n",
      " 39  rush_yds_per_att_season      1047 non-null   float64\n",
      " 40  rush_td_season               659 non-null    float64\n",
      " 41  rec_season                   1576 non-null   float64\n",
      " 42  rec_yds_season               1576 non-null   float64\n",
      " 43  rec_yds_per_rec_season       1576 non-null   float64\n",
      " 44  scrim_att_season             1589 non-null   float64\n",
      " 45  scrim_yds_season             1588 non-null   float64\n",
      " 46  scrim_yds_per_att_season     1588 non-null   float64\n",
      " 47  scrim_td_season              1528 non-null   float64\n",
      " 48  rush_att_career              1230 non-null   float64\n",
      " 49  rush_yds_career              1226 non-null   float64\n",
      " 50  rush_yds_per_att_career      1219 non-null   float64\n",
      " 51  rush_td_career               810 non-null    float64\n",
      " 52  rec_career                   1600 non-null   float64\n",
      " 53  rec_yds_career               1600 non-null   float64\n",
      " 54  rec_yds_per_rec_career       1600 non-null   float64\n",
      " 55  rec_td_career                1501 non-null   float64\n",
      " 56  scrim_att_career             1604 non-null   float64\n",
      " 57  scrim_yds_career             1603 non-null   float64\n",
      " 58  scrim_yds_per_att_career     1603 non-null   float64\n",
      " 59  scrim_td_career              1593 non-null   float64\n",
      " 60  fumbles_rec_yds_career       308 non-null    float64\n",
      " 61  fumbles_rec_td_career        372 non-null    float64\n",
      " 62  rec_td_season                1297 non-null   float64\n",
      " 63  def_int_td_season            310 non-null    float64\n",
      " 64  def_int_td_career            654 non-null    float64\n",
      " 65  fumbles_rec_career           1127 non-null   float64\n",
      " 66  fumbles_rec_yds_season       125 non-null    float64\n",
      " 67  fumbles_rec_td_season        152 non-null    float64\n",
      " 68  fumbles_rec_season           611 non-null    float64\n",
      " 69  tackles_solo_season          2382 non-null   float64\n",
      " 70  tackles_assists_season       2372 non-null   float64\n",
      " 71  tackles_total_season         2390 non-null   float64\n",
      " 72  tackles_loss_season          2255 non-null   float64\n",
      " 73  sacks_season                 1644 non-null   float64\n",
      " 74  pass_defended_season         1466 non-null   float64\n",
      " 75  tackles_solo_career          2405 non-null   float64\n",
      " 76  tackles_assists_career       2408 non-null   float64\n",
      " 77  tackles_total_career         2409 non-null   float64\n",
      " 78  tackles_loss_career          2367 non-null   float64\n",
      " 79  sacks_career                 1965 non-null   float64\n",
      " 80  pass_defended_career         1911 non-null   float64\n",
      " 81  fumbles_forced_season        928 non-null    float64\n",
      " 82  fumbles_forced_career        1553 non-null   float64\n",
      " 83  team                         6067 non-null   object \n",
      " 84  pick                         3895 non-null   float64\n",
      " 85  college_conference           2581 non-null   object \n",
      " 86  Age                          3765 non-null   float64\n",
      " 87  Round                        6067 non-null   float64\n",
      "dtypes: float64(83), object(5)\n",
      "memory usage: 4.1+ MB\n"
     ]
    }
   ],
   "source": [
    "df.info()"
   ]
  },
  {
   "cell_type": "code",
   "execution_count": 10,
   "id": "26318641",
   "metadata": {},
   "outputs": [
    {
     "name": "stderr",
     "output_type": "stream",
     "text": [
      "C:\\Users\\capta\\AppData\\Local\\Temp\\ipykernel_3344\\4223153948.py:1: SettingWithCopyWarning: \n",
      "A value is trying to be set on a copy of a slice from a DataFrame\n",
      "\n",
      "See the caveats in the documentation: https://pandas.pydata.org/pandas-docs/stable/user_guide/indexing.html#returning-a-view-versus-a-copy\n",
      "  df.Round[df.Round <= 3] = 1\n"
     ]
    }
   ],
   "source": [
    "df.Round[df.Round <= 3] = 1"
   ]
  },
  {
   "cell_type": "code",
   "execution_count": 12,
   "id": "b2309fa3",
   "metadata": {},
   "outputs": [
    {
     "name": "stderr",
     "output_type": "stream",
     "text": [
      "C:\\Users\\capta\\AppData\\Local\\Temp\\ipykernel_3344\\3089005703.py:1: SettingWithCopyWarning: \n",
      "A value is trying to be set on a copy of a slice from a DataFrame\n",
      "\n",
      "See the caveats in the documentation: https://pandas.pydata.org/pandas-docs/stable/user_guide/indexing.html#returning-a-view-versus-a-copy\n",
      "  df.Round[df.Round != 1] = 0\n"
     ]
    }
   ],
   "source": [
    "df.Round[df.Round != 1] = 0"
   ]
  },
  {
   "cell_type": "code",
   "execution_count": 15,
   "id": "7f2508af",
   "metadata": {},
   "outputs": [
    {
     "data": {
      "text/plain": [
       "0.0    0.707763\n",
       "1.0    0.292237\n",
       "Name: Round, dtype: float64"
      ]
     },
     "execution_count": 15,
     "metadata": {},
     "output_type": "execute_result"
    }
   ],
   "source": [
    "df.Round.value_counts(normalize=True)"
   ]
  },
  {
   "cell_type": "code",
   "execution_count": 29,
   "id": "a3f14cc4",
   "metadata": {},
   "outputs": [
    {
     "name": "stderr",
     "output_type": "stream",
     "text": [
      "C:\\Users\\capta\\AppData\\Local\\Temp\\ipykernel_3344\\1713061100.py:1: FutureWarning: The default value of numeric_only in DataFrameGroupBy.mean is deprecated. In a future version, numeric_only will default to False. Either specify numeric_only or select only columns which should be valid for the function.\n",
      "  df[df.pos == 'WR'].groupby(['Round']).mean()\n"
     ]
    },
    {
     "data": {
      "text/html": [
       "<div>\n",
       "<style scoped>\n",
       "    .dataframe tbody tr th:only-of-type {\n",
       "        vertical-align: middle;\n",
       "    }\n",
       "\n",
       "    .dataframe tbody tr th {\n",
       "        vertical-align: top;\n",
       "    }\n",
       "\n",
       "    .dataframe thead th {\n",
       "        text-align: right;\n",
       "    }\n",
       "</style>\n",
       "<table border=\"1\" class=\"dataframe\">\n",
       "  <thead>\n",
       "    <tr style=\"text-align: right;\">\n",
       "      <th></th>\n",
       "      <th>year</th>\n",
       "      <th>height</th>\n",
       "      <th>weight</th>\n",
       "      <th>forty_yd</th>\n",
       "      <th>vertical</th>\n",
       "      <th>bench_reps</th>\n",
       "      <th>broad_jump</th>\n",
       "      <th>cone</th>\n",
       "      <th>shuttle</th>\n",
       "      <th>g_season</th>\n",
       "      <th>...</th>\n",
       "      <th>tackles_solo_career</th>\n",
       "      <th>tackles_assists_career</th>\n",
       "      <th>tackles_total_career</th>\n",
       "      <th>tackles_loss_career</th>\n",
       "      <th>sacks_career</th>\n",
       "      <th>pass_defended_career</th>\n",
       "      <th>fumbles_forced_season</th>\n",
       "      <th>fumbles_forced_career</th>\n",
       "      <th>pick</th>\n",
       "      <th>Age</th>\n",
       "    </tr>\n",
       "    <tr>\n",
       "      <th>Round</th>\n",
       "      <th></th>\n",
       "      <th></th>\n",
       "      <th></th>\n",
       "      <th></th>\n",
       "      <th></th>\n",
       "      <th></th>\n",
       "      <th></th>\n",
       "      <th></th>\n",
       "      <th></th>\n",
       "      <th></th>\n",
       "      <th></th>\n",
       "      <th></th>\n",
       "      <th></th>\n",
       "      <th></th>\n",
       "      <th></th>\n",
       "      <th></th>\n",
       "      <th></th>\n",
       "      <th></th>\n",
       "      <th></th>\n",
       "      <th></th>\n",
       "      <th></th>\n",
       "    </tr>\n",
       "  </thead>\n",
       "  <tbody>\n",
       "    <tr>\n",
       "      <th>0.0</th>\n",
       "      <td>2013.838550</td>\n",
       "      <td>72.764511</td>\n",
       "      <td>201.888889</td>\n",
       "      <td>4.526424</td>\n",
       "      <td>34.833019</td>\n",
       "      <td>14.111111</td>\n",
       "      <td>120.357977</td>\n",
       "      <td>6.984306</td>\n",
       "      <td>4.262738</td>\n",
       "      <td>11.497186</td>\n",
       "      <td>...</td>\n",
       "      <td>81.666667</td>\n",
       "      <td>82.666667</td>\n",
       "      <td>164.333333</td>\n",
       "      <td>29.0</td>\n",
       "      <td>5.0</td>\n",
       "      <td>4.0</td>\n",
       "      <td>1.0</td>\n",
       "      <td>3.0</td>\n",
       "      <td>172.343284</td>\n",
       "      <td>22.440945</td>\n",
       "    </tr>\n",
       "    <tr>\n",
       "      <th>1.0</th>\n",
       "      <td>2013.516807</td>\n",
       "      <td>72.725738</td>\n",
       "      <td>202.843882</td>\n",
       "      <td>4.447568</td>\n",
       "      <td>36.266129</td>\n",
       "      <td>15.944444</td>\n",
       "      <td>123.280220</td>\n",
       "      <td>6.921061</td>\n",
       "      <td>4.217071</td>\n",
       "      <td>12.078341</td>\n",
       "      <td>...</td>\n",
       "      <td>95.000000</td>\n",
       "      <td>105.000000</td>\n",
       "      <td>200.000000</td>\n",
       "      <td>18.5</td>\n",
       "      <td>7.0</td>\n",
       "      <td>1.0</td>\n",
       "      <td>NaN</td>\n",
       "      <td>NaN</td>\n",
       "      <td>51.932773</td>\n",
       "      <td>21.965217</td>\n",
       "    </tr>\n",
       "  </tbody>\n",
       "</table>\n",
       "<p>2 rows × 82 columns</p>\n",
       "</div>"
      ],
      "text/plain": [
       "              year     height      weight  forty_yd   vertical  bench_reps  \\\n",
       "Round                                                                        \n",
       "0.0    2013.838550  72.764511  201.888889  4.526424  34.833019   14.111111   \n",
       "1.0    2013.516807  72.725738  202.843882  4.447568  36.266129   15.944444   \n",
       "\n",
       "       broad_jump      cone   shuttle   g_season  ...  tackles_solo_career  \\\n",
       "Round                                             ...                        \n",
       "0.0    120.357977  6.984306  4.262738  11.497186  ...            81.666667   \n",
       "1.0    123.280220  6.921061  4.217071  12.078341  ...            95.000000   \n",
       "\n",
       "       tackles_assists_career  tackles_total_career  tackles_loss_career  \\\n",
       "Round                                                                      \n",
       "0.0                 82.666667            164.333333                 29.0   \n",
       "1.0                105.000000            200.000000                 18.5   \n",
       "\n",
       "       sacks_career  pass_defended_career  fumbles_forced_season  \\\n",
       "Round                                                              \n",
       "0.0             5.0                   4.0                    1.0   \n",
       "1.0             7.0                   1.0                    NaN   \n",
       "\n",
       "       fumbles_forced_career        pick        Age  \n",
       "Round                                                \n",
       "0.0                      3.0  172.343284  22.440945  \n",
       "1.0                      NaN   51.932773  21.965217  \n",
       "\n",
       "[2 rows x 82 columns]"
      ]
     },
     "execution_count": 29,
     "metadata": {},
     "output_type": "execute_result"
    }
   ],
   "source": [
    "df[df.pos == 'WR'].groupby(['Round']).mean()"
   ]
  },
  {
   "cell_type": "code",
   "execution_count": null,
   "id": "1508a2eb",
   "metadata": {},
   "outputs": [],
   "source": []
  },
  {
   "cell_type": "code",
   "execution_count": null,
   "id": "60398842",
   "metadata": {},
   "outputs": [],
   "source": []
  },
  {
   "cell_type": "code",
   "execution_count": null,
   "id": "91716f92",
   "metadata": {},
   "outputs": [],
   "source": []
  },
  {
   "cell_type": "code",
   "execution_count": null,
   "id": "dc3e12ad",
   "metadata": {},
   "outputs": [],
   "source": []
  },
  {
   "cell_type": "code",
   "execution_count": null,
   "id": "3351bf2e",
   "metadata": {},
   "outputs": [],
   "source": []
  },
  {
   "cell_type": "code",
   "execution_count": null,
   "id": "331c71e1",
   "metadata": {},
   "outputs": [],
   "source": []
  },
  {
   "cell_type": "code",
   "execution_count": null,
   "id": "8944fcd2",
   "metadata": {},
   "outputs": [],
   "source": []
  }
 ],
 "metadata": {
  "kernelspec": {
   "display_name": "Python 3 (ipykernel)",
   "language": "python",
   "name": "python3"
  },
  "language_info": {
   "codemirror_mode": {
    "name": "ipython",
    "version": 3
   },
   "file_extension": ".py",
   "mimetype": "text/x-python",
   "name": "python",
   "nbconvert_exporter": "python",
   "pygments_lexer": "ipython3",
   "version": "3.9.13"
  }
 },
 "nbformat": 4,
 "nbformat_minor": 5
}
