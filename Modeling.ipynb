{
 "cells": [
  {
   "cell_type": "code",
   "execution_count": 1,
   "id": "8d24da8b",
   "metadata": {},
   "outputs": [],
   "source": [
    "import pandas as pd\n",
    "import numpy as np\n",
    "from sklearn.mixture import GaussianMixture\n",
    "from sklearn.metrics import accuracy_score,confusion_matrix, plot_confusion_matrix, plot_roc_curve, recall_score, f1_score, precision_score\n",
    "from sklearn.preprocessing import MinMaxScaler, OneHotEncoder, StandardScaler\n",
    "from sklearn.pipeline import Pipeline\n",
    "from sklearn.model_selection import train_test_split, GridSearchCV\n",
    "from sklearn.impute import SimpleImputer\n",
    "from sklearn.compose import ColumnTransformer\n"
   ]
  },
  {
   "cell_type": "code",
   "execution_count": 2,
   "id": "69091e5e",
   "metadata": {},
   "outputs": [],
   "source": [
    "df = pd.read_parquet('./Data/draft0522.parquet')"
   ]
  },
  {
   "cell_type": "code",
   "execution_count": 3,
   "id": "1315dbe3",
   "metadata": {},
   "outputs": [],
   "source": [
    "model_df = df.drop(['school_name'],axis=1)"
   ]
  },
  {
   "cell_type": "code",
   "execution_count": 4,
   "id": "0430d1c2",
   "metadata": {},
   "outputs": [
    {
     "name": "stderr",
     "output_type": "stream",
     "text": [
      "C:\\Users\\capta\\AppData\\Local\\Temp\\ipykernel_15096\\2943970229.py:1: SettingWithCopyWarning: \n",
      "A value is trying to be set on a copy of a slice from a DataFrame\n",
      "\n",
      "See the caveats in the documentation: https://pandas.pydata.org/pandas-docs/stable/user_guide/indexing.html#returning-a-view-versus-a-copy\n",
      "  model_df.Round[model_df.Round <= 3] = 2\n"
     ]
    }
   ],
   "source": [
    "model_df.Round[model_df.Round <= 3] = 2"
   ]
  },
  {
   "cell_type": "code",
   "execution_count": 5,
   "id": "c4e928a7",
   "metadata": {},
   "outputs": [
    {
     "name": "stderr",
     "output_type": "stream",
     "text": [
      "C:\\Users\\capta\\AppData\\Local\\Temp\\ipykernel_15096\\3023946570.py:1: SettingWithCopyWarning: \n",
      "A value is trying to be set on a copy of a slice from a DataFrame\n",
      "\n",
      "See the caveats in the documentation: https://pandas.pydata.org/pandas-docs/stable/user_guide/indexing.html#returning-a-view-versus-a-copy\n",
      "  model_df.Round[model_df.Round == 8] = 0\n"
     ]
    }
   ],
   "source": [
    "model_df.Round[model_df.Round == 8] = 0"
   ]
  },
  {
   "cell_type": "code",
   "execution_count": 6,
   "id": "fd2b1a2e",
   "metadata": {},
   "outputs": [
    {
     "name": "stderr",
     "output_type": "stream",
     "text": [
      "C:\\Users\\capta\\AppData\\Local\\Temp\\ipykernel_15096\\4119251177.py:1: SettingWithCopyWarning: \n",
      "A value is trying to be set on a copy of a slice from a DataFrame\n",
      "\n",
      "See the caveats in the documentation: https://pandas.pydata.org/pandas-docs/stable/user_guide/indexing.html#returning-a-view-versus-a-copy\n",
      "  model_df.Round[model_df.Round >=4] = 1\n"
     ]
    }
   ],
   "source": [
    "model_df.Round[model_df.Round >=4] = 1"
   ]
  },
  {
   "cell_type": "code",
   "execution_count": 7,
   "id": "d9ecf072",
   "metadata": {},
   "outputs": [
    {
     "data": {
      "text/plain": [
       "0.0    0.358002\n",
       "1.0    0.349761\n",
       "2.0    0.292237\n",
       "Name: Round, dtype: float64"
      ]
     },
     "execution_count": 7,
     "metadata": {},
     "output_type": "execute_result"
    }
   ],
   "source": [
    "model_df.Round.value_counts(normalize=True)"
   ]
  },
  {
   "cell_type": "code",
   "execution_count": 8,
   "id": "fda9f884",
   "metadata": {},
   "outputs": [],
   "source": [
    "X = model_df.drop(['Round'],axis=1)\n",
    "y = model_df.Round"
   ]
  },
  {
   "cell_type": "code",
   "execution_count": 10,
   "id": "e6e0b26d",
   "metadata": {},
   "outputs": [
    {
     "name": "stderr",
     "output_type": "stream",
     "text": [
      "C:\\Users\\capta\\anaconda3\\lib\\site-packages\\sklearn\\preprocessing\\_encoders.py:170: UserWarning: Found unknown categories in columns [1] during transform. These unknown categories will be encoded as all zeros\n",
      "  warnings.warn(\n",
      "C:\\Users\\capta\\anaconda3\\lib\\site-packages\\sklearn\\preprocessing\\_encoders.py:170: UserWarning: Found unknown categories in columns [1] during transform. These unknown categories will be encoded as all zeros\n",
      "  warnings.warn(\n",
      "C:\\Users\\capta\\anaconda3\\lib\\site-packages\\sklearn\\preprocessing\\_encoders.py:170: UserWarning: Found unknown categories in columns [1] during transform. These unknown categories will be encoded as all zeros\n",
      "  warnings.warn(\n",
      "C:\\Users\\capta\\anaconda3\\lib\\site-packages\\sklearn\\preprocessing\\_encoders.py:170: UserWarning: Found unknown categories in columns [1] during transform. These unknown categories will be encoded as all zeros\n",
      "  warnings.warn(\n",
      "C:\\Users\\capta\\anaconda3\\lib\\site-packages\\sklearn\\preprocessing\\_encoders.py:170: UserWarning: Found unknown categories in columns [1] during transform. These unknown categories will be encoded as all zeros\n",
      "  warnings.warn(\n",
      "C:\\Users\\capta\\anaconda3\\lib\\site-packages\\sklearn\\preprocessing\\_encoders.py:170: UserWarning: Found unknown categories in columns [1] during transform. These unknown categories will be encoded as all zeros\n",
      "  warnings.warn(\n",
      "C:\\Users\\capta\\anaconda3\\lib\\site-packages\\sklearn\\preprocessing\\_encoders.py:170: UserWarning: Found unknown categories in columns [1] during transform. These unknown categories will be encoded as all zeros\n",
      "  warnings.warn(\n",
      "C:\\Users\\capta\\anaconda3\\lib\\site-packages\\sklearn\\preprocessing\\_encoders.py:170: UserWarning: Found unknown categories in columns [1] during transform. These unknown categories will be encoded as all zeros\n",
      "  warnings.warn(\n",
      "C:\\Users\\capta\\anaconda3\\lib\\site-packages\\sklearn\\preprocessing\\_encoders.py:170: UserWarning: Found unknown categories in columns [1] during transform. These unknown categories will be encoded as all zeros\n",
      "  warnings.warn(\n",
      "C:\\Users\\capta\\anaconda3\\lib\\site-packages\\sklearn\\preprocessing\\_encoders.py:170: UserWarning: Found unknown categories in columns [1] during transform. These unknown categories will be encoded as all zeros\n",
      "  warnings.warn(\n",
      "C:\\Users\\capta\\anaconda3\\lib\\site-packages\\sklearn\\preprocessing\\_encoders.py:170: UserWarning: Found unknown categories in columns [1] during transform. These unknown categories will be encoded as all zeros\n",
      "  warnings.warn(\n",
      "C:\\Users\\capta\\anaconda3\\lib\\site-packages\\sklearn\\preprocessing\\_encoders.py:170: UserWarning: Found unknown categories in columns [1] during transform. These unknown categories will be encoded as all zeros\n",
      "  warnings.warn(\n",
      "C:\\Users\\capta\\anaconda3\\lib\\site-packages\\sklearn\\preprocessing\\_encoders.py:170: UserWarning: Found unknown categories in columns [1] during transform. These unknown categories will be encoded as all zeros\n",
      "  warnings.warn(\n",
      "C:\\Users\\capta\\anaconda3\\lib\\site-packages\\sklearn\\preprocessing\\_encoders.py:170: UserWarning: Found unknown categories in columns [1] during transform. These unknown categories will be encoded as all zeros\n",
      "  warnings.warn(\n",
      "C:\\Users\\capta\\anaconda3\\lib\\site-packages\\sklearn\\preprocessing\\_encoders.py:170: UserWarning: Found unknown categories in columns [1] during transform. These unknown categories will be encoded as all zeros\n",
      "  warnings.warn(\n",
      "C:\\Users\\capta\\anaconda3\\lib\\site-packages\\sklearn\\preprocessing\\_encoders.py:170: UserWarning: Found unknown categories in columns [1] during transform. These unknown categories will be encoded as all zeros\n",
      "  warnings.warn(\n",
      "C:\\Users\\capta\\anaconda3\\lib\\site-packages\\sklearn\\preprocessing\\_encoders.py:170: UserWarning: Found unknown categories in columns [1] during transform. These unknown categories will be encoded as all zeros\n",
      "  warnings.warn(\n",
      "C:\\Users\\capta\\anaconda3\\lib\\site-packages\\sklearn\\preprocessing\\_encoders.py:170: UserWarning: Found unknown categories in columns [1] during transform. These unknown categories will be encoded as all zeros\n",
      "  warnings.warn(\n",
      "C:\\Users\\capta\\anaconda3\\lib\\site-packages\\sklearn\\preprocessing\\_encoders.py:170: UserWarning: Found unknown categories in columns [1] during transform. These unknown categories will be encoded as all zeros\n",
      "  warnings.warn(\n",
      "C:\\Users\\capta\\anaconda3\\lib\\site-packages\\sklearn\\preprocessing\\_encoders.py:170: UserWarning: Found unknown categories in columns [1] during transform. These unknown categories will be encoded as all zeros\n",
      "  warnings.warn(\n",
      "C:\\Users\\capta\\anaconda3\\lib\\site-packages\\sklearn\\preprocessing\\_encoders.py:170: UserWarning: Found unknown categories in columns [1] during transform. These unknown categories will be encoded as all zeros\n",
      "  warnings.warn(\n",
      "C:\\Users\\capta\\anaconda3\\lib\\site-packages\\sklearn\\preprocessing\\_encoders.py:170: UserWarning: Found unknown categories in columns [1] during transform. These unknown categories will be encoded as all zeros\n",
      "  warnings.warn(\n",
      "C:\\Users\\capta\\anaconda3\\lib\\site-packages\\sklearn\\preprocessing\\_encoders.py:170: UserWarning: Found unknown categories in columns [1] during transform. These unknown categories will be encoded as all zeros\n",
      "  warnings.warn(\n",
      "C:\\Users\\capta\\anaconda3\\lib\\site-packages\\sklearn\\preprocessing\\_encoders.py:170: UserWarning: Found unknown categories in columns [1] during transform. These unknown categories will be encoded as all zeros\n",
      "  warnings.warn(\n",
      "C:\\Users\\capta\\anaconda3\\lib\\site-packages\\sklearn\\preprocessing\\_encoders.py:170: UserWarning: Found unknown categories in columns [1] during transform. These unknown categories will be encoded as all zeros\n",
      "  warnings.warn(\n",
      "C:\\Users\\capta\\anaconda3\\lib\\site-packages\\sklearn\\preprocessing\\_encoders.py:170: UserWarning: Found unknown categories in columns [1] during transform. These unknown categories will be encoded as all zeros\n",
      "  warnings.warn(\n",
      "C:\\Users\\capta\\anaconda3\\lib\\site-packages\\sklearn\\preprocessing\\_encoders.py:170: UserWarning: Found unknown categories in columns [1] during transform. These unknown categories will be encoded as all zeros\n",
      "  warnings.warn(\n",
      "C:\\Users\\capta\\anaconda3\\lib\\site-packages\\sklearn\\preprocessing\\_encoders.py:170: UserWarning: Found unknown categories in columns [1] during transform. These unknown categories will be encoded as all zeros\n",
      "  warnings.warn(\n",
      "C:\\Users\\capta\\anaconda3\\lib\\site-packages\\sklearn\\preprocessing\\_encoders.py:170: UserWarning: Found unknown categories in columns [1] during transform. These unknown categories will be encoded as all zeros\n",
      "  warnings.warn(\n",
      "C:\\Users\\capta\\anaconda3\\lib\\site-packages\\sklearn\\preprocessing\\_encoders.py:170: UserWarning: Found unknown categories in columns [1] during transform. These unknown categories will be encoded as all zeros\n",
      "  warnings.warn(\n",
      "C:\\Users\\capta\\anaconda3\\lib\\site-packages\\sklearn\\preprocessing\\_encoders.py:170: UserWarning: Found unknown categories in columns [1] during transform. These unknown categories will be encoded as all zeros\n",
      "  warnings.warn(\n",
      "C:\\Users\\capta\\anaconda3\\lib\\site-packages\\sklearn\\preprocessing\\_encoders.py:170: UserWarning: Found unknown categories in columns [1] during transform. These unknown categories will be encoded as all zeros\n",
      "  warnings.warn(\n",
      "C:\\Users\\capta\\anaconda3\\lib\\site-packages\\sklearn\\preprocessing\\_encoders.py:170: UserWarning: Found unknown categories in columns [1] during transform. These unknown categories will be encoded as all zeros\n",
      "  warnings.warn(\n",
      "C:\\Users\\capta\\anaconda3\\lib\\site-packages\\sklearn\\preprocessing\\_encoders.py:170: UserWarning: Found unknown categories in columns [1] during transform. These unknown categories will be encoded as all zeros\n",
      "  warnings.warn(\n",
      "C:\\Users\\capta\\anaconda3\\lib\\site-packages\\sklearn\\preprocessing\\_encoders.py:170: UserWarning: Found unknown categories in columns [1] during transform. These unknown categories will be encoded as all zeros\n",
      "  warnings.warn(\n"
     ]
    },
    {
     "data": {
      "text/plain": [
       "GridSearchCV(cv=5,\n",
       "             estimator=Pipeline(steps=[('trans',\n",
       "                                        ColumnTransformer(transformers=[('num',\n",
       "                                                                         Pipeline(steps=[('ss',\n",
       "                                                                                          StandardScaler()),\n",
       "                                                                                         ('impute',\n",
       "                                                                                          SimpleImputer(strategy='constant'))]),\n",
       "                                                                         Index(['height', 'weight', 'forty_yd', 'vertical', 'bench_reps', 'broad_jump',\n",
       "       'cone', 'shuttle', 'g_season', 'def_int_season', 'def_int_yds_season',\n",
       "       'def_int_yds_per_int_season', 'd...\n",
       "       'fumbles_forced_season', 'fumbles_forced_career', 'Age', 'speed',\n",
       "       'agility', 'alt_agility'],\n",
       "      dtype='object')),\n",
       "                                                                        ('cat',\n",
       "                                                                         Pipeline(steps=[('ohe',\n",
       "                                                                                          OneHotEncoder(drop='first',\n",
       "                                                                                                        handle_unknown='ignore',\n",
       "                                                                                                        sparse=False))]),\n",
       "                                                                         Index(['pos', 'college_conference'], dtype='object'))])),\n",
       "                                       ('gaus',\n",
       "                                        GaussianMixture(random_state=42))]),\n",
       "             param_grid={'gaus__n_components': [4, 5, 6, 7, 8, 9, 10]})"
      ]
     },
     "execution_count": 10,
     "metadata": {},
     "output_type": "execute_result"
    }
   ],
   "source": [
    "X_train, X_test, y_train, y_test = train_test_split(X,y,test_size=.33,random_state=42)\n",
    "\n",
    "player_name = X_test.player\n",
    "player_pick = X_test.pick\n",
    "player_year = X_test.year\n",
    "player_team = X_test.team\n",
    "\n",
    "X_train.drop(['player','pick','year','team'],axis=1,inplace=True)\n",
    "X_test.drop(['player','pick','year','team'],axis=1,inplace=True)\n",
    "\n",
    "X_train_cat = X_train.select_dtypes('object')\n",
    "X_train_num = X_train.select_dtypes('float64')\n",
    "\n",
    "cat_transformer = Pipeline(steps=[('ohe',OneHotEncoder(drop='first',sparse=False,handle_unknown='ignore'))])\n",
    "num_transformer = Pipeline(steps=[\n",
    "    ('ss',StandardScaler()),\n",
    "    ('impute',SimpleImputer(strategy='constant'))])\n",
    "\n",
    "transformer = ColumnTransformer(transformers=[\n",
    "    ('num', num_transformer, X_train_num.columns),\n",
    "    ('cat', cat_transformer, X_train_cat.columns)])\n",
    "\n",
    "pipe = Pipeline(steps=[\n",
    "    ('trans',transformer),\n",
    "    ('gaus',GaussianMixture(random_state=42))])\n",
    "\n",
    "grid = {'gaus__n_components':[4,5,6,7,8,9,10]}\n",
    "\n",
    "gridsearch = GridSearchCV(estimator=pipe,\n",
    "                         param_grid=grid,\n",
    "                         cv=5)\n",
    "\n",
    "gridsearch.fit(X_train,y_train)"
   ]
  },
  {
   "cell_type": "code",
   "execution_count": 11,
   "id": "1bb5375c",
   "metadata": {},
   "outputs": [
    {
     "data": {
      "text/plain": [
       "{'gaus__n_components': 4}"
      ]
     },
     "execution_count": 11,
     "metadata": {},
     "output_type": "execute_result"
    }
   ],
   "source": [
    "gridsearch.best_params_"
   ]
  },
  {
   "cell_type": "code",
   "execution_count": 12,
   "id": "5b07d93f",
   "metadata": {},
   "outputs": [
    {
     "data": {
      "text/plain": [
       "5"
      ]
     },
     "execution_count": 12,
     "metadata": {},
     "output_type": "execute_result"
    }
   ],
   "source": [
    "gridsearch.n_splits_"
   ]
  },
  {
   "cell_type": "code",
   "execution_count": 13,
   "id": "c975b4db",
   "metadata": {},
   "outputs": [
    {
     "data": {
      "text/plain": [
       "Pipeline(steps=[('trans',\n",
       "                 ColumnTransformer(transformers=[('num',\n",
       "                                                  Pipeline(steps=[('ss',\n",
       "                                                                   StandardScaler()),\n",
       "                                                                  ('impute',\n",
       "                                                                   SimpleImputer(strategy='constant'))]),\n",
       "                                                  Index(['height', 'weight', 'forty_yd', 'vertical', 'bench_reps', 'broad_jump',\n",
       "       'cone', 'shuttle', 'g_season', 'def_int_season', 'def_int_yds_season',\n",
       "       'def_int_yds_per_int_season', 'def_int_career', 'def_int_yds_...\n",
       "       'tackles_loss_career', 'sacks_career', 'pass_defended_career',\n",
       "       'fumbles_forced_season', 'fumbles_forced_career', 'Age', 'speed',\n",
       "       'agility', 'alt_agility'],\n",
       "      dtype='object')),\n",
       "                                                 ('cat',\n",
       "                                                  Pipeline(steps=[('ohe',\n",
       "                                                                   OneHotEncoder(drop='first',\n",
       "                                                                                 handle_unknown='ignore',\n",
       "                                                                                 sparse=False))]),\n",
       "                                                  Index(['pos', 'college_conference'], dtype='object'))])),\n",
       "                ('gaus', GaussianMixture(n_components=4, random_state=42))])"
      ]
     },
     "execution_count": 13,
     "metadata": {},
     "output_type": "execute_result"
    }
   ],
   "source": [
    "gridsearch.best_estimator_"
   ]
  },
  {
   "cell_type": "code",
   "execution_count": 14,
   "id": "55384fb7",
   "metadata": {},
   "outputs": [
    {
     "data": {
      "text/plain": [
       "('gaus', GaussianMixture(n_components=4, random_state=42))"
      ]
     },
     "execution_count": 14,
     "metadata": {},
     "output_type": "execute_result"
    }
   ],
   "source": [
    "from copy import deepcopy\n",
    "preprocess = deepcopy(gridsearch.best_estimator_)\n",
    "\n",
    "preprocess.steps.pop()"
   ]
  },
  {
   "cell_type": "code",
   "execution_count": 15,
   "id": "1bb0b2b5",
   "metadata": {},
   "outputs": [],
   "source": [
    "X_transformed = preprocess.transform(X_train)"
   ]
  },
  {
   "cell_type": "code",
   "execution_count": 16,
   "id": "83803419",
   "metadata": {},
   "outputs": [
    {
     "data": {
      "text/plain": [
       "-2745130.781855205"
      ]
     },
     "execution_count": 16,
     "metadata": {},
     "output_type": "execute_result"
    }
   ],
   "source": [
    "gridsearch.best_estimator_[-1].bic(X_transformed)"
   ]
  },
  {
   "cell_type": "code",
   "execution_count": 17,
   "id": "b88701fc",
   "metadata": {},
   "outputs": [
    {
     "name": "stderr",
     "output_type": "stream",
     "text": [
      "C:\\Users\\capta\\anaconda3\\lib\\site-packages\\sklearn\\preprocessing\\_encoders.py:170: UserWarning: Found unknown categories in columns [1] during transform. These unknown categories will be encoded as all zeros\n",
      "  warnings.warn(\n"
     ]
    }
   ],
   "source": [
    "y_pred = gridsearch.predict_proba(X_test)"
   ]
  },
  {
   "cell_type": "code",
   "execution_count": 20,
   "id": "41cdc675",
   "metadata": {},
   "outputs": [],
   "source": [
    "h = pd.DataFrame(y_pred)"
   ]
  },
  {
   "cell_type": "code",
   "execution_count": 26,
   "id": "cab085d9",
   "metadata": {},
   "outputs": [
    {
     "data": {
      "text/html": [
       "<div>\n",
       "<style scoped>\n",
       "    .dataframe tbody tr th:only-of-type {\n",
       "        vertical-align: middle;\n",
       "    }\n",
       "\n",
       "    .dataframe tbody tr th {\n",
       "        vertical-align: top;\n",
       "    }\n",
       "\n",
       "    .dataframe thead th {\n",
       "        text-align: right;\n",
       "    }\n",
       "</style>\n",
       "<table border=\"1\" class=\"dataframe\">\n",
       "  <thead>\n",
       "    <tr style=\"text-align: right;\">\n",
       "      <th></th>\n",
       "      <th>0</th>\n",
       "      <th>1</th>\n",
       "      <th>2</th>\n",
       "      <th>3</th>\n",
       "    </tr>\n",
       "  </thead>\n",
       "  <tbody>\n",
       "    <tr>\n",
       "      <th>0</th>\n",
       "      <td>1.0</td>\n",
       "      <td>0.0</td>\n",
       "      <td>3.770336e-55</td>\n",
       "      <td>0.000000e+00</td>\n",
       "    </tr>\n",
       "    <tr>\n",
       "      <th>1</th>\n",
       "      <td>0.0</td>\n",
       "      <td>0.0</td>\n",
       "      <td>0.000000e+00</td>\n",
       "      <td>1.000000e+00</td>\n",
       "    </tr>\n",
       "    <tr>\n",
       "      <th>2</th>\n",
       "      <td>0.0</td>\n",
       "      <td>1.0</td>\n",
       "      <td>0.000000e+00</td>\n",
       "      <td>0.000000e+00</td>\n",
       "    </tr>\n",
       "    <tr>\n",
       "      <th>3</th>\n",
       "      <td>0.0</td>\n",
       "      <td>1.0</td>\n",
       "      <td>0.000000e+00</td>\n",
       "      <td>0.000000e+00</td>\n",
       "    </tr>\n",
       "    <tr>\n",
       "      <th>4</th>\n",
       "      <td>1.0</td>\n",
       "      <td>0.0</td>\n",
       "      <td>3.817528e-48</td>\n",
       "      <td>3.480438e-69</td>\n",
       "    </tr>\n",
       "    <tr>\n",
       "      <th>...</th>\n",
       "      <td>...</td>\n",
       "      <td>...</td>\n",
       "      <td>...</td>\n",
       "      <td>...</td>\n",
       "    </tr>\n",
       "    <tr>\n",
       "      <th>1998</th>\n",
       "      <td>0.0</td>\n",
       "      <td>0.0</td>\n",
       "      <td>0.000000e+00</td>\n",
       "      <td>1.000000e+00</td>\n",
       "    </tr>\n",
       "    <tr>\n",
       "      <th>1999</th>\n",
       "      <td>0.0</td>\n",
       "      <td>0.0</td>\n",
       "      <td>0.000000e+00</td>\n",
       "      <td>1.000000e+00</td>\n",
       "    </tr>\n",
       "    <tr>\n",
       "      <th>2000</th>\n",
       "      <td>0.0</td>\n",
       "      <td>1.0</td>\n",
       "      <td>0.000000e+00</td>\n",
       "      <td>0.000000e+00</td>\n",
       "    </tr>\n",
       "    <tr>\n",
       "      <th>2001</th>\n",
       "      <td>0.0</td>\n",
       "      <td>1.0</td>\n",
       "      <td>0.000000e+00</td>\n",
       "      <td>0.000000e+00</td>\n",
       "    </tr>\n",
       "    <tr>\n",
       "      <th>2002</th>\n",
       "      <td>0.0</td>\n",
       "      <td>0.0</td>\n",
       "      <td>0.000000e+00</td>\n",
       "      <td>1.000000e+00</td>\n",
       "    </tr>\n",
       "  </tbody>\n",
       "</table>\n",
       "<p>2003 rows × 4 columns</p>\n",
       "</div>"
      ],
      "text/plain": [
       "        0    1             2             3\n",
       "0     1.0  0.0  3.770336e-55  0.000000e+00\n",
       "1     0.0  0.0  0.000000e+00  1.000000e+00\n",
       "2     0.0  1.0  0.000000e+00  0.000000e+00\n",
       "3     0.0  1.0  0.000000e+00  0.000000e+00\n",
       "4     1.0  0.0  3.817528e-48  3.480438e-69\n",
       "...   ...  ...           ...           ...\n",
       "1998  0.0  0.0  0.000000e+00  1.000000e+00\n",
       "1999  0.0  0.0  0.000000e+00  1.000000e+00\n",
       "2000  0.0  1.0  0.000000e+00  0.000000e+00\n",
       "2001  0.0  1.0  0.000000e+00  0.000000e+00\n",
       "2002  0.0  0.0  0.000000e+00  1.000000e+00\n",
       "\n",
       "[2003 rows x 4 columns]"
      ]
     },
     "execution_count": 26,
     "metadata": {},
     "output_type": "execute_result"
    }
   ],
   "source": [
    "h"
   ]
  },
  {
   "cell_type": "code",
   "execution_count": 19,
   "id": "50270605",
   "metadata": {},
   "outputs": [],
   "source": [
    "from sklearn.manifold import TSNE"
   ]
  },
  {
   "cell_type": "code",
   "execution_count": 22,
   "id": "b64bd4e5",
   "metadata": {},
   "outputs": [
    {
     "name": "stderr",
     "output_type": "stream",
     "text": [
      "C:\\Users\\capta\\anaconda3\\lib\\site-packages\\sklearn\\manifold\\_t_sne.py:780: FutureWarning: The default initialization in TSNE will change from 'random' to 'pca' in 1.2.\n",
      "  warnings.warn(\n"
     ]
    }
   ],
   "source": [
    "tsne = TSNE(random_state=42,learning_rate=100)\n",
    "tsne_trans = tsne.fit_transform(h)\n",
    "tsne_trans = pd.DataFrame(tsne_trans, columns = ['TSNE1','TSNE2'])"
   ]
  },
  {
   "cell_type": "code",
   "execution_count": 34,
   "id": "ed12a61a",
   "metadata": {},
   "outputs": [],
   "source": [
    "tsne_trans['class'] = np.argmax(h.values, axis = 1)"
   ]
  },
  {
   "cell_type": "code",
   "execution_count": 35,
   "id": "61d99696",
   "metadata": {},
   "outputs": [
    {
     "data": {
      "text/html": [
       "<div>\n",
       "<style scoped>\n",
       "    .dataframe tbody tr th:only-of-type {\n",
       "        vertical-align: middle;\n",
       "    }\n",
       "\n",
       "    .dataframe tbody tr th {\n",
       "        vertical-align: top;\n",
       "    }\n",
       "\n",
       "    .dataframe thead th {\n",
       "        text-align: right;\n",
       "    }\n",
       "</style>\n",
       "<table border=\"1\" class=\"dataframe\">\n",
       "  <thead>\n",
       "    <tr style=\"text-align: right;\">\n",
       "      <th></th>\n",
       "      <th>TSNE1</th>\n",
       "      <th>TSNE2</th>\n",
       "      <th>class</th>\n",
       "    </tr>\n",
       "  </thead>\n",
       "  <tbody>\n",
       "    <tr>\n",
       "      <th>0</th>\n",
       "      <td>5.488305</td>\n",
       "      <td>-13.571383</td>\n",
       "      <td>0</td>\n",
       "    </tr>\n",
       "    <tr>\n",
       "      <th>1</th>\n",
       "      <td>-2.883079</td>\n",
       "      <td>25.529081</td>\n",
       "      <td>3</td>\n",
       "    </tr>\n",
       "    <tr>\n",
       "      <th>2</th>\n",
       "      <td>-21.648020</td>\n",
       "      <td>-4.094162</td>\n",
       "      <td>1</td>\n",
       "    </tr>\n",
       "    <tr>\n",
       "      <th>3</th>\n",
       "      <td>-21.723021</td>\n",
       "      <td>-4.070070</td>\n",
       "      <td>1</td>\n",
       "    </tr>\n",
       "    <tr>\n",
       "      <th>4</th>\n",
       "      <td>3.488823</td>\n",
       "      <td>-15.918584</td>\n",
       "      <td>0</td>\n",
       "    </tr>\n",
       "    <tr>\n",
       "      <th>...</th>\n",
       "      <td>...</td>\n",
       "      <td>...</td>\n",
       "      <td>...</td>\n",
       "    </tr>\n",
       "    <tr>\n",
       "      <th>1998</th>\n",
       "      <td>-3.871777</td>\n",
       "      <td>23.826612</td>\n",
       "      <td>3</td>\n",
       "    </tr>\n",
       "    <tr>\n",
       "      <th>1999</th>\n",
       "      <td>-3.871777</td>\n",
       "      <td>23.826612</td>\n",
       "      <td>3</td>\n",
       "    </tr>\n",
       "    <tr>\n",
       "      <th>2000</th>\n",
       "      <td>-21.726894</td>\n",
       "      <td>-5.238549</td>\n",
       "      <td>1</td>\n",
       "    </tr>\n",
       "    <tr>\n",
       "      <th>2001</th>\n",
       "      <td>-21.726894</td>\n",
       "      <td>-5.238549</td>\n",
       "      <td>1</td>\n",
       "    </tr>\n",
       "    <tr>\n",
       "      <th>2002</th>\n",
       "      <td>-3.871777</td>\n",
       "      <td>23.826612</td>\n",
       "      <td>3</td>\n",
       "    </tr>\n",
       "  </tbody>\n",
       "</table>\n",
       "<p>2003 rows × 3 columns</p>\n",
       "</div>"
      ],
      "text/plain": [
       "          TSNE1      TSNE2  class\n",
       "0      5.488305 -13.571383      0\n",
       "1     -2.883079  25.529081      3\n",
       "2    -21.648020  -4.094162      1\n",
       "3    -21.723021  -4.070070      1\n",
       "4      3.488823 -15.918584      0\n",
       "...         ...        ...    ...\n",
       "1998  -3.871777  23.826612      3\n",
       "1999  -3.871777  23.826612      3\n",
       "2000 -21.726894  -5.238549      1\n",
       "2001 -21.726894  -5.238549      1\n",
       "2002  -3.871777  23.826612      3\n",
       "\n",
       "[2003 rows x 3 columns]"
      ]
     },
     "execution_count": 35,
     "metadata": {},
     "output_type": "execute_result"
    }
   ],
   "source": [
    "tsne_trans"
   ]
  },
  {
   "cell_type": "code",
   "execution_count": 36,
   "id": "664f6359",
   "metadata": {},
   "outputs": [],
   "source": [
    "import matplotlib.pyplot as plt\n",
    "import seaborn as sns"
   ]
  },
  {
   "cell_type": "code",
   "execution_count": 38,
   "id": "131af59d",
   "metadata": {},
   "outputs": [
    {
     "data": {
      "text/plain": [
       "<AxesSubplot:xlabel='TSNE1', ylabel='TSNE2'>"
      ]
     },
     "execution_count": 38,
     "metadata": {},
     "output_type": "execute_result"
    },
    {
     "data": {
      "image/png": "[encoded data removed]",
      "text/plain": [
       "<Figure size 1200x1000 with 1 Axes>"
      ]
     },
     "metadata": {},
     "output_type": "display_data"
    }
   ],
   "source": [
    "plt.figure(figsize=(12,10))\n",
    "sns.scatterplot(x=tsne_trans.TSNE1,y=tsne_trans.TSNE2, hue=tsne_trans['class'], palette = 'tab10')"
   ]
  },
  {
   "cell_type": "code",
   "execution_count": 39,
   "id": "a1db039a",
   "metadata": {},
   "outputs": [
    {
     "data": {
      "text/html": [
       "<div>\n",
       "<style scoped>\n",
       "    .dataframe tbody tr th:only-of-type {\n",
       "        vertical-align: middle;\n",
       "    }\n",
       "\n",
       "    .dataframe tbody tr th {\n",
       "        vertical-align: top;\n",
       "    }\n",
       "\n",
       "    .dataframe thead th {\n",
       "        text-align: right;\n",
       "    }\n",
       "</style>\n",
       "<table border=\"1\" class=\"dataframe\">\n",
       "  <thead>\n",
       "    <tr style=\"text-align: right;\">\n",
       "      <th></th>\n",
       "      <th>pos</th>\n",
       "      <th>height</th>\n",
       "      <th>weight</th>\n",
       "      <th>forty_yd</th>\n",
       "      <th>vertical</th>\n",
       "      <th>bench_reps</th>\n",
       "      <th>broad_jump</th>\n",
       "      <th>cone</th>\n",
       "      <th>shuttle</th>\n",
       "      <th>g_season</th>\n",
       "      <th>...</th>\n",
       "      <th>tackles_loss_career</th>\n",
       "      <th>sacks_career</th>\n",
       "      <th>pass_defended_career</th>\n",
       "      <th>fumbles_forced_season</th>\n",
       "      <th>fumbles_forced_career</th>\n",
       "      <th>college_conference</th>\n",
       "      <th>Age</th>\n",
       "      <th>speed</th>\n",
       "      <th>agility</th>\n",
       "      <th>alt_agility</th>\n",
       "    </tr>\n",
       "  </thead>\n",
       "  <tbody>\n",
       "    <tr>\n",
       "      <th>2763</th>\n",
       "      <td>DT</td>\n",
       "      <td>75.0</td>\n",
       "      <td>313.0</td>\n",
       "      <td>5.06</td>\n",
       "      <td>26.5</td>\n",
       "      <td>30.0</td>\n",
       "      <td>101.0</td>\n",
       "      <td>NaN</td>\n",
       "      <td>NaN</td>\n",
       "      <td>NaN</td>\n",
       "      <td>...</td>\n",
       "      <td>13.5</td>\n",
       "      <td>5.0</td>\n",
       "      <td>3.0</td>\n",
       "      <td>NaN</td>\n",
       "      <td>2.0</td>\n",
       "      <td>None</td>\n",
       "      <td>NaN</td>\n",
       "      <td>95.493160</td>\n",
       "      <td>NaN</td>\n",
       "      <td>NaN</td>\n",
       "    </tr>\n",
       "    <tr>\n",
       "      <th>3758</th>\n",
       "      <td>RB</td>\n",
       "      <td>72.0</td>\n",
       "      <td>238.0</td>\n",
       "      <td>4.64</td>\n",
       "      <td>NaN</td>\n",
       "      <td>NaN</td>\n",
       "      <td>NaN</td>\n",
       "      <td>NaN</td>\n",
       "      <td>NaN</td>\n",
       "      <td>7.0</td>\n",
       "      <td>...</td>\n",
       "      <td>NaN</td>\n",
       "      <td>NaN</td>\n",
       "      <td>NaN</td>\n",
       "      <td>NaN</td>\n",
       "      <td>NaN</td>\n",
       "      <td>None</td>\n",
       "      <td>NaN</td>\n",
       "      <td>102.691626</td>\n",
       "      <td>NaN</td>\n",
       "      <td>NaN</td>\n",
       "    </tr>\n",
       "    <tr>\n",
       "      <th>1652</th>\n",
       "      <td>WR</td>\n",
       "      <td>74.0</td>\n",
       "      <td>188.0</td>\n",
       "      <td>4.52</td>\n",
       "      <td>40.0</td>\n",
       "      <td>NaN</td>\n",
       "      <td>122.0</td>\n",
       "      <td>7.03</td>\n",
       "      <td>4.43</td>\n",
       "      <td>13.0</td>\n",
       "      <td>...</td>\n",
       "      <td>NaN</td>\n",
       "      <td>NaN</td>\n",
       "      <td>NaN</td>\n",
       "      <td>NaN</td>\n",
       "      <td>NaN</td>\n",
       "      <td>None</td>\n",
       "      <td>NaN</td>\n",
       "      <td>90.081188</td>\n",
       "      <td>97.627673</td>\n",
       "      <td>108.223573</td>\n",
       "    </tr>\n",
       "    <tr>\n",
       "      <th>3872</th>\n",
       "      <td>WR</td>\n",
       "      <td>73.0</td>\n",
       "      <td>199.0</td>\n",
       "      <td>4.54</td>\n",
       "      <td>32.5</td>\n",
       "      <td>17.0</td>\n",
       "      <td>116.0</td>\n",
       "      <td>NaN</td>\n",
       "      <td>NaN</td>\n",
       "      <td>12.0</td>\n",
       "      <td>...</td>\n",
       "      <td>NaN</td>\n",
       "      <td>NaN</td>\n",
       "      <td>NaN</td>\n",
       "      <td>NaN</td>\n",
       "      <td>NaN</td>\n",
       "      <td>None</td>\n",
       "      <td>NaN</td>\n",
       "      <td>93.682756</td>\n",
       "      <td>NaN</td>\n",
       "      <td>NaN</td>\n",
       "    </tr>\n",
       "    <tr>\n",
       "      <th>5143</th>\n",
       "      <td>LB</td>\n",
       "      <td>75.0</td>\n",
       "      <td>241.0</td>\n",
       "      <td>NaN</td>\n",
       "      <td>NaN</td>\n",
       "      <td>NaN</td>\n",
       "      <td>NaN</td>\n",
       "      <td>NaN</td>\n",
       "      <td>NaN</td>\n",
       "      <td>12.0</td>\n",
       "      <td>...</td>\n",
       "      <td>24.5</td>\n",
       "      <td>14.5</td>\n",
       "      <td>1.0</td>\n",
       "      <td>2.0</td>\n",
       "      <td>6.0</td>\n",
       "      <td>None</td>\n",
       "      <td>NaN</td>\n",
       "      <td>NaN</td>\n",
       "      <td>NaN</td>\n",
       "      <td>NaN</td>\n",
       "    </tr>\n",
       "    <tr>\n",
       "      <th>...</th>\n",
       "      <td>...</td>\n",
       "      <td>...</td>\n",
       "      <td>...</td>\n",
       "      <td>...</td>\n",
       "      <td>...</td>\n",
       "      <td>...</td>\n",
       "      <td>...</td>\n",
       "      <td>...</td>\n",
       "      <td>...</td>\n",
       "      <td>...</td>\n",
       "      <td>...</td>\n",
       "      <td>...</td>\n",
       "      <td>...</td>\n",
       "      <td>...</td>\n",
       "      <td>...</td>\n",
       "      <td>...</td>\n",
       "      <td>...</td>\n",
       "      <td>...</td>\n",
       "      <td>...</td>\n",
       "      <td>...</td>\n",
       "      <td>...</td>\n",
       "    </tr>\n",
       "    <tr>\n",
       "      <th>759</th>\n",
       "      <td>S</td>\n",
       "      <td>71.0</td>\n",
       "      <td>203.0</td>\n",
       "      <td>4.45</td>\n",
       "      <td>36.5</td>\n",
       "      <td>20.0</td>\n",
       "      <td>121.0</td>\n",
       "      <td>7.28</td>\n",
       "      <td>4.30</td>\n",
       "      <td>12.0</td>\n",
       "      <td>...</td>\n",
       "      <td>12.0</td>\n",
       "      <td>1.5</td>\n",
       "      <td>NaN</td>\n",
       "      <td>NaN</td>\n",
       "      <td>NaN</td>\n",
       "      <td>None</td>\n",
       "      <td>NaN</td>\n",
       "      <td>103.534714</td>\n",
       "      <td>118.755084</td>\n",
       "      <td>105.228140</td>\n",
       "    </tr>\n",
       "    <tr>\n",
       "      <th>4714</th>\n",
       "      <td>S</td>\n",
       "      <td>72.0</td>\n",
       "      <td>209.0</td>\n",
       "      <td>4.63</td>\n",
       "      <td>34.5</td>\n",
       "      <td>17.0</td>\n",
       "      <td>114.0</td>\n",
       "      <td>7.45</td>\n",
       "      <td>4.30</td>\n",
       "      <td>13.0</td>\n",
       "      <td>...</td>\n",
       "      <td>14.0</td>\n",
       "      <td>1.0</td>\n",
       "      <td>13.0</td>\n",
       "      <td>NaN</td>\n",
       "      <td>NaN</td>\n",
       "      <td>None</td>\n",
       "      <td>NaN</td>\n",
       "      <td>90.960391</td>\n",
       "      <td>122.265087</td>\n",
       "      <td>101.089829</td>\n",
       "    </tr>\n",
       "    <tr>\n",
       "      <th>2622</th>\n",
       "      <td>WR</td>\n",
       "      <td>74.0</td>\n",
       "      <td>206.0</td>\n",
       "      <td>4.58</td>\n",
       "      <td>NaN</td>\n",
       "      <td>NaN</td>\n",
       "      <td>NaN</td>\n",
       "      <td>NaN</td>\n",
       "      <td>NaN</td>\n",
       "      <td>9.0</td>\n",
       "      <td>...</td>\n",
       "      <td>NaN</td>\n",
       "      <td>NaN</td>\n",
       "      <td>NaN</td>\n",
       "      <td>NaN</td>\n",
       "      <td>NaN</td>\n",
       "      <td>Pacific Twelve Conference</td>\n",
       "      <td>21.0</td>\n",
       "      <td>93.634372</td>\n",
       "      <td>NaN</td>\n",
       "      <td>NaN</td>\n",
       "    </tr>\n",
       "    <tr>\n",
       "      <th>5693</th>\n",
       "      <td>TE</td>\n",
       "      <td>NaN</td>\n",
       "      <td>NaN</td>\n",
       "      <td>NaN</td>\n",
       "      <td>NaN</td>\n",
       "      <td>NaN</td>\n",
       "      <td>NaN</td>\n",
       "      <td>NaN</td>\n",
       "      <td>NaN</td>\n",
       "      <td>1.0</td>\n",
       "      <td>...</td>\n",
       "      <td>NaN</td>\n",
       "      <td>NaN</td>\n",
       "      <td>NaN</td>\n",
       "      <td>NaN</td>\n",
       "      <td>NaN</td>\n",
       "      <td>None</td>\n",
       "      <td>NaN</td>\n",
       "      <td>NaN</td>\n",
       "      <td>NaN</td>\n",
       "      <td>NaN</td>\n",
       "    </tr>\n",
       "    <tr>\n",
       "      <th>1426</th>\n",
       "      <td>S</td>\n",
       "      <td>72.0</td>\n",
       "      <td>212.0</td>\n",
       "      <td>4.55</td>\n",
       "      <td>34.5</td>\n",
       "      <td>21.0</td>\n",
       "      <td>116.0</td>\n",
       "      <td>7.35</td>\n",
       "      <td>4.16</td>\n",
       "      <td>13.0</td>\n",
       "      <td>...</td>\n",
       "      <td>12.0</td>\n",
       "      <td>4.5</td>\n",
       "      <td>4.0</td>\n",
       "      <td>NaN</td>\n",
       "      <td>3.0</td>\n",
       "      <td>None</td>\n",
       "      <td>22.0</td>\n",
       "      <td>98.928237</td>\n",
       "      <td>141.576944</td>\n",
       "      <td>106.783423</td>\n",
       "    </tr>\n",
       "  </tbody>\n",
       "</table>\n",
       "<p>2003 rows × 85 columns</p>\n",
       "</div>"
      ],
      "text/plain": [
       "     pos  height  weight  forty_yd  vertical  bench_reps  broad_jump  cone  \\\n",
       "2763  DT    75.0   313.0      5.06      26.5        30.0       101.0   NaN   \n",
       "3758  RB    72.0   238.0      4.64       NaN         NaN         NaN   NaN   \n",
       "1652  WR    74.0   188.0      4.52      40.0         NaN       122.0  7.03   \n",
       "3872  WR    73.0   199.0      4.54      32.5        17.0       116.0   NaN   \n",
       "5143  LB    75.0   241.0       NaN       NaN         NaN         NaN   NaN   \n",
       "...   ..     ...     ...       ...       ...         ...         ...   ...   \n",
       "759    S    71.0   203.0      4.45      36.5        20.0       121.0  7.28   \n",
       "4714   S    72.0   209.0      4.63      34.5        17.0       114.0  7.45   \n",
       "2622  WR    74.0   206.0      4.58       NaN         NaN         NaN   NaN   \n",
       "5693  TE     NaN     NaN       NaN       NaN         NaN         NaN   NaN   \n",
       "1426   S    72.0   212.0      4.55      34.5        21.0       116.0  7.35   \n",
       "\n",
       "      shuttle  g_season  ...  tackles_loss_career  sacks_career  \\\n",
       "2763      NaN       NaN  ...                 13.5           5.0   \n",
       "3758      NaN       7.0  ...                  NaN           NaN   \n",
       "1652     4.43      13.0  ...                  NaN           NaN   \n",
       "3872      NaN      12.0  ...                  NaN           NaN   \n",
       "5143      NaN      12.0  ...                 24.5          14.5   \n",
       "...       ...       ...  ...                  ...           ...   \n",
       "759      4.30      12.0  ...                 12.0           1.5   \n",
       "4714     4.30      13.0  ...                 14.0           1.0   \n",
       "2622      NaN       9.0  ...                  NaN           NaN   \n",
       "5693      NaN       1.0  ...                  NaN           NaN   \n",
       "1426     4.16      13.0  ...                 12.0           4.5   \n",
       "\n",
       "      pass_defended_career  fumbles_forced_season  fumbles_forced_career  \\\n",
       "2763                   3.0                    NaN                    2.0   \n",
       "3758                   NaN                    NaN                    NaN   \n",
       "1652                   NaN                    NaN                    NaN   \n",
       "3872                   NaN                    NaN                    NaN   \n",
       "5143                   1.0                    2.0                    6.0   \n",
       "...                    ...                    ...                    ...   \n",
       "759                    NaN                    NaN                    NaN   \n",
       "4714                  13.0                    NaN                    NaN   \n",
       "2622                   NaN                    NaN                    NaN   \n",
       "5693                   NaN                    NaN                    NaN   \n",
       "1426                   4.0                    NaN                    3.0   \n",
       "\n",
       "             college_conference   Age       speed     agility  alt_agility  \n",
       "2763                       None   NaN   95.493160         NaN          NaN  \n",
       "3758                       None   NaN  102.691626         NaN          NaN  \n",
       "1652                       None   NaN   90.081188   97.627673   108.223573  \n",
       "3872                       None   NaN   93.682756         NaN          NaN  \n",
       "5143                       None   NaN         NaN         NaN          NaN  \n",
       "...                         ...   ...         ...         ...          ...  \n",
       "759                        None   NaN  103.534714  118.755084   105.228140  \n",
       "4714                       None   NaN   90.960391  122.265087   101.089829  \n",
       "2622  Pacific Twelve Conference  21.0   93.634372         NaN          NaN  \n",
       "5693                       None   NaN         NaN         NaN          NaN  \n",
       "1426                       None  22.0   98.928237  141.576944   106.783423  \n",
       "\n",
       "[2003 rows x 85 columns]"
      ]
     },
     "execution_count": 39,
     "metadata": {},
     "output_type": "execute_result"
    }
   ],
   "source": [
    "X_test"
   ]
  },
  {
   "cell_type": "code",
   "execution_count": null,
   "id": "04b716c7",
   "metadata": {},
   "outputs": [],
   "source": [
    "look = "
   ]
  }
 ],
 "metadata": {
  "kernelspec": {
   "display_name": "Python 3 (ipykernel)",
   "language": "python",
   "name": "python3"
  },
  "language_info": {
   "codemirror_mode": {
    "name": "ipython",
    "version": 3
   },
   "file_extension": ".py",
   "mimetype": "text/x-python",
   "name": "python",
   "nbconvert_exporter": "python",
   "pygments_lexer": "ipython3",
   "version": "3.9.13"
  }
 },
 "nbformat": 4,
 "nbformat_minor": 5
}
